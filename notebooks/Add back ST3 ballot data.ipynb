{
 "cells": [
  {
   "cell_type": "code",
   "execution_count": 6,
   "metadata": {
    "collapsed": true
   },
   "outputs": [],
   "source": [
    "import django\n",
    "import sys\n",
    "import os\n",
    "sys.path.append('..')\n",
    "\n",
    "from django.conf import settings\n",
    "django.setup()\n",
    "\n",
    "from campfin_data.models import *\n",
    "import locale\n",
    "locale.setlocale(locale.LC_ALL, 'en_US')\n",
    "from django.db.models import Q, Sum, Count"
   ]
  },
  {
   "cell_type": "code",
   "execution_count": 1,
   "metadata": {
    "collapsed": false
   },
   "outputs": [
    {
     "ename": "NameError",
     "evalue": "name 'ScrapedCommittee' is not defined",
     "output_type": "error",
     "traceback": [
      "\u001b[0;31m---------------------------------------------------------------------------\u001b[0m",
      "\u001b[0;31mNameError\u001b[0m                                 Traceback (most recent call last)",
      "\u001b[0;32m<ipython-input-1-0a2945e23e75>\u001b[0m in \u001b[0;36m<module>\u001b[0;34m()\u001b[0m\n\u001b[0;32m----> 1\u001b[0;31m committees = ScrapedCommittee.objects.filter(\n\u001b[0m\u001b[1;32m      2\u001b[0m     Q(name__icontains='sound transit') | Q(name__icontains='mass transit'))\n\u001b[1;32m      3\u001b[0m \u001b[0mballots\u001b[0m \u001b[0;34m=\u001b[0m \u001b[0mSOSPDCMap\u001b[0m\u001b[0;34m.\u001b[0m\u001b[0mobjects\u001b[0m\u001b[0;34m.\u001b[0m\u001b[0mfilter\u001b[0m\u001b[0;34m(\u001b[0m\u001b[0mpdc_filer_id__in\u001b[0m\u001b[0;34m=\u001b[0m\u001b[0;34m[\u001b[0m\u001b[0mc\u001b[0m\u001b[0;34m.\u001b[0m\u001b[0mfiler_id\u001b[0m \u001b[0;32mfor\u001b[0m \u001b[0mc\u001b[0m \u001b[0;32min\u001b[0m \u001b[0mcommittees\u001b[0m\u001b[0;34m]\u001b[0m\u001b[0;34m)\u001b[0m\u001b[0;34m\u001b[0m\u001b[0m\n\u001b[1;32m      4\u001b[0m \u001b[0;32mfor\u001b[0m \u001b[0mballot\u001b[0m \u001b[0;32min\u001b[0m \u001b[0mballots\u001b[0m\u001b[0;34m:\u001b[0m\u001b[0;34m\u001b[0m\u001b[0m\n\u001b[1;32m      5\u001b[0m     \u001b[0;32mprint\u001b[0m \u001b[0mballot\u001b[0m\u001b[0;34m.\u001b[0m\u001b[0msos_ballot_id\u001b[0m\u001b[0;34m,\u001b[0m \u001b[0mballot\u001b[0m\u001b[0;34m.\u001b[0m\u001b[0mpdc_filer_id\u001b[0m\u001b[0;34m\u001b[0m\u001b[0m\n",
      "\u001b[0;31mNameError\u001b[0m: name 'ScrapedCommittee' is not defined"
     ]
    }
   ],
   "source": [
    "committees = ScrapedCommittee.objects.filter(\n",
    "    Q(name__icontains='sound transit') | Q(name__icontains='mass transit'))\n",
    "ballots = SOSPDCMap.objects.filter(pdc_filer_id__in=[c.filer_id for c in committees])\n",
    "for ballot in ballots:\n",
    "    print ballot.sos_ballot_id, ballot.pdc_filer_id\n",
    "\n",
    "for ballot in BallotRaceSummary.objects.filter(race_id__gte=999990):\n",
    "    print ballot\n",
    "\n",
    "contribs = ScrapedContribution.objects.filter(filing_committee__in=committees).order_by('-amount')\n",
    "\n",
    "\n",
    "refunds = ScrapedRefund.objects.filter(filing_committee__in=committees)"
   ]
  },
  {
   "cell_type": "code",
   "execution_count": 2,
   "metadata": {
    "collapsed": false
   },
   "outputs": [
    {
     "ename": "NameError",
     "evalue": "name 'BallotDistrict' is not defined",
     "output_type": "error",
     "traceback": [
      "\u001b[0;31m---------------------------------------------------------------------------\u001b[0m",
      "\u001b[0;31mNameError\u001b[0m                                 Traceback (most recent call last)",
      "\u001b[0;32m<ipython-input-2-c668db0fc8ce>\u001b[0m in \u001b[0;36m<module>\u001b[0;34m()\u001b[0m\n\u001b[0;32m----> 1\u001b[0;31m \u001b[0mst_district\u001b[0m \u001b[0;34m=\u001b[0m \u001b[0mBallotDistrict\u001b[0m\u001b[0;34m.\u001b[0m\u001b[0mobjects\u001b[0m\u001b[0;34m.\u001b[0m\u001b[0mget\u001b[0m\u001b[0;34m(\u001b[0m\u001b[0mdistrict_id\u001b[0m\u001b[0;34m=\u001b[0m\u001b[0msettings\u001b[0m\u001b[0;34m.\u001b[0m\u001b[0mSOUND_TRANSIT_DISTRICT_ID\u001b[0m\u001b[0;34m)\u001b[0m\u001b[0;34m\u001b[0m\u001b[0m\n\u001b[0m\u001b[1;32m      2\u001b[0m \u001b[0melection\u001b[0m \u001b[0;34m=\u001b[0m \u001b[0mBallotElection\u001b[0m\u001b[0;34m.\u001b[0m\u001b[0mobjects\u001b[0m\u001b[0;34m.\u001b[0m\u001b[0mget\u001b[0m\u001b[0;34m(\u001b[0m\u001b[0mis_current\u001b[0m\u001b[0;34m=\u001b[0m\u001b[0mTrue\u001b[0m\u001b[0;34m)\u001b[0m\u001b[0;34m\u001b[0m\u001b[0m\n\u001b[1;32m      3\u001b[0m \u001b[0;34m\u001b[0m\u001b[0m\n\u001b[1;32m      4\u001b[0m mtn = BallotRaceSummary.objects.crate(\n\u001b[1;32m      5\u001b[0m     \u001b[0mballot_id\u001b[0m\u001b[0;34m=\u001b[0m\u001b[0;36m999991\u001b[0m\u001b[0;34m,\u001b[0m\u001b[0;34m\u001b[0m\u001b[0m\n",
      "\u001b[0;31mNameError\u001b[0m: name 'BallotDistrict' is not defined"
     ]
    }
   ],
   "source": [
    "st_district = BallotDistrict.objects.get(district_id=settings.SOUND_TRANSIT_DISTRICT_ID)\n",
    "election = BallotElection.objects.get(is_current=True)\n",
    "\n",
    "mtn = BallotRaceSummary.objects.crate(\n",
    "    ballot_id=999991,\n",
    "    ballot_name='Yes',\n",
    "    ballot_name_with_party='Yes',\n",
    "    race_id=999999,\n",
    "    race_name='Proposition 1 (Sound Transit 3) - Light rail, commuter rail, and bus service expansion, SOUND TRANSIT'\n",
    ")\n",
    "\n",
    "nost3 = BallotRaceSummary.objects.crate(\n",
    "    ballot_id=999992,\n",
    "    ballot_name='No',\n",
    "    ballot_name_with_party='No',\n",
    "    race_id=999999,\n",
    "    race_name='Proposition 1 (Sound Transit 3) - Light rail, commuter rail, and bus service expansion, SOUND TRANSIT'\n",
    ")"
   ]
  },
  {
   "cell_type": "code",
   "execution_count": 3,
   "metadata": {
    "collapsed": false
   },
   "outputs": [
    {
     "ename": "NameError",
     "evalue": "name 'PDCContribution' is not defined",
     "output_type": "error",
     "traceback": [
      "\u001b[0;31m---------------------------------------------------------------------------\u001b[0m",
      "\u001b[0;31mNameError\u001b[0m                                 Traceback (most recent call last)",
      "\u001b[0;32m<ipython-input-3-46b6de94d4c5>\u001b[0m in \u001b[0;36m<module>\u001b[0;34m()\u001b[0m\n\u001b[1;32m      1\u001b[0m \u001b[0;31m# SEIU historical contribution processing to fix spreadsheet error\u001b[0m\u001b[0;34m\u001b[0m\u001b[0;34m\u001b[0m\u001b[0m\n\u001b[1;32m      2\u001b[0m \u001b[0;34m\u001b[0m\u001b[0m\n\u001b[0;32m----> 3\u001b[0;31m contribs = PDCContribution.objects.exclude(is_superseded=True).filter(\n\u001b[0m\u001b[1;32m      4\u001b[0m     Q(donor__full_name__icontains='seiu') | Q(donor__full_name__icontains='service employee'))\n\u001b[1;32m      5\u001b[0m \u001b[0;34m\u001b[0m\u001b[0m\n",
      "\u001b[0;31mNameError\u001b[0m: name 'PDCContribution' is not defined"
     ]
    }
   ],
   "source": [
    "# SEIU historical contribution processing to fix spreadsheet error\n",
    "\n",
    "contribs = PDCContribution.objects.exclude(is_superseded=True).filter(\n",
    "    Q(donor__full_name__icontains='seiu') | Q(donor__full_name__icontains='service employee'))\n",
    "\n",
    "groups = {\n",
    "    'house': {},\n",
    "    'senate': {}\n",
    "}\n",
    "\n",
    "for contrib in contribs:\n",
    "    cmte = contrib.filer_committee\n",
    "    cmte_year = PDCCommitteeYear.objects.filter(\n",
    "        committee=cmte, year__in=[contrib.rcpt_date.year, contrib.rcpt_date.year + 1])\n",
    "    key = ''\n",
    "    for year in cmte_year:\n",
    "        if year.jurisdiction.find('LEG DISTRICT') != -1:\n",
    "            if year.jurisdiction.find('HOUSE') != -1:\n",
    "                key = 'house'\n",
    "            else:\n",
    "                key = 'senate'\n",
    "\n",
    "    if key:\n",
    "        if contrib.rcpt_date.year not in groups[key]:\n",
    "            groups[key][contrib.rcpt_date.year] = 0.\n",
    "        groups[key][contrib.rcpt_date.year] += float(contrib.amount)"
   ]
  },
  {
   "cell_type": "code",
   "execution_count": 4,
   "metadata": {
    "collapsed": false
   },
   "outputs": [
    {
     "name": "stdout",
     "output_type": "stream",
     "text": [
      "1996\n"
     ]
    },
    {
     "ename": "NameError",
     "evalue": "name 'groups' is not defined",
     "output_type": "error",
     "traceback": [
      "\u001b[0;31m---------------------------------------------------------------------------\u001b[0m",
      "\u001b[0;31mNameError\u001b[0m                                 Traceback (most recent call last)",
      "\u001b[0;32m<ipython-input-4-bc1cefe1ac50>\u001b[0m in \u001b[0;36m<module>\u001b[0;34m()\u001b[0m\n\u001b[1;32m      2\u001b[0m     \u001b[0;32mprint\u001b[0m \u001b[0myear\u001b[0m\u001b[0;34m\u001b[0m\u001b[0m\n\u001b[1;32m      3\u001b[0m     \u001b[0;32mfor\u001b[0m \u001b[0mchamber\u001b[0m \u001b[0;32min\u001b[0m \u001b[0;34m[\u001b[0m\u001b[0;34m'senate'\u001b[0m\u001b[0;34m]\u001b[0m\u001b[0;34m:\u001b[0m\u001b[0;34m\u001b[0m\u001b[0m\n\u001b[0;32m----> 4\u001b[0;31m         \u001b[0;32mif\u001b[0m \u001b[0myear\u001b[0m \u001b[0;32min\u001b[0m \u001b[0mgroups\u001b[0m\u001b[0;34m[\u001b[0m\u001b[0mchamber\u001b[0m\u001b[0;34m]\u001b[0m\u001b[0;34m:\u001b[0m\u001b[0;34m\u001b[0m\u001b[0m\n\u001b[0m\u001b[1;32m      5\u001b[0m             \u001b[0;32mprint\u001b[0m \u001b[0mchamber\u001b[0m\u001b[0;34m,\u001b[0m \u001b[0mgroups\u001b[0m\u001b[0;34m[\u001b[0m\u001b[0mchamber\u001b[0m\u001b[0;34m]\u001b[0m\u001b[0;34m[\u001b[0m\u001b[0myear\u001b[0m\u001b[0;34m]\u001b[0m\u001b[0;34m\u001b[0m\u001b[0m\n\u001b[1;32m      6\u001b[0m         \u001b[0;32melse\u001b[0m\u001b[0;34m:\u001b[0m\u001b[0;34m\u001b[0m\u001b[0m\n",
      "\u001b[0;31mNameError\u001b[0m: name 'groups' is not defined"
     ]
    }
   ],
   "source": [
    "for year in range(1996, 2017):\n",
    "    print year\n",
    "    for chamber in ['senate']:\n",
    "        if year in groups[chamber]:\n",
    "            print chamber, groups[chamber][year]\n",
    "        else:\n",
    "            print 'No data'"
   ]
  },
  {
   "cell_type": "code",
   "execution_count": 5,
   "metadata": {
    "collapsed": false
   },
   "outputs": [
    {
     "ename": "TypeError",
     "evalue": "summer() takes exactly 2 arguments (1 given)",
     "output_type": "error",
     "traceback": [
      "\u001b[0;31m---------------------------------------------------------------------------\u001b[0m",
      "\u001b[0;31mTypeError\u001b[0m                                 Traceback (most recent call last)",
      "\u001b[0;32m<ipython-input-5-37743d9876b6>\u001b[0m in \u001b[0;36m<module>\u001b[0;34m()\u001b[0m\n\u001b[1;32m      7\u001b[0m         \u001b[0;32mreturn\u001b[0m \u001b[0msummer\u001b[0m\u001b[0;34m(\u001b[0m\u001b[0mamount\u001b[0m \u001b[0;34m*\u001b[0m \u001b[0;36m2\u001b[0m\u001b[0;34m,\u001b[0m \u001b[0miters\u001b[0m\u001b[0;34m)\u001b[0m\u001b[0;34m\u001b[0m\u001b[0m\n\u001b[1;32m      8\u001b[0m \u001b[0;34m\u001b[0m\u001b[0m\n\u001b[0;32m----> 9\u001b[0;31m \u001b[0msummer\u001b[0m\u001b[0;34m(\u001b[0m\u001b[0;36m100\u001b[0m\u001b[0;34m,\u001b[0m \u001b[0;34m)\u001b[0m\u001b[0;34m\u001b[0m\u001b[0m\n\u001b[0m",
      "\u001b[0;31mTypeError\u001b[0m: summer() takes exactly 2 arguments (1 given)"
     ]
    }
   ],
   "source": [
    "def summer(amount, iters):\n",
    "    if amount > 1000000000000:\n",
    "        print 'Took %d iters to reach %d' % (iters, amount)\n",
    "    else:\n",
    "        iters += 1\n",
    "        print iters\n",
    "        return summer(amount * 2, iters)\n",
    "\n",
    "summer(100, )"
   ]
  },
  {
   "cell_type": "code",
   "execution_count": null,
   "metadata": {
    "collapsed": true
   },
   "outputs": [],
   "source": []
  }
 ],
 "metadata": {
  "kernelspec": {
   "display_name": "Python 2",
   "language": "python",
   "name": "python2"
  },
  "language_info": {
   "codemirror_mode": {
    "name": "ipython",
    "version": 2
   },
   "file_extension": ".py",
   "mimetype": "text/x-python",
   "name": "python",
   "nbconvert_exporter": "python",
   "pygments_lexer": "ipython2",
   "version": "2.7.6"
  }
 },
 "nbformat": 4,
 "nbformat_minor": 1
}
