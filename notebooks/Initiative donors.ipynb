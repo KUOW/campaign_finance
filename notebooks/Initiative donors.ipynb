{
 "cells": [
  {
   "cell_type": "code",
   "execution_count": 1,
   "metadata": {
    "collapsed": true
   },
   "outputs": [],
   "source": [
    "import django\n",
    "import sys\n",
    "import os\n",
    "sys.path.append('..')\n",
    "\n",
    "from django.conf import settings\n",
    "django.setup()\n",
    "\n",
    "from campfin_data.models import *\n",
    "import locale\n",
    "locale.setlocale(locale.LC_ALL, 'en_US')\n",
    "from django.db.models import Q, Sum, Count"
   ]
  },
  {
   "cell_type": "code",
   "execution_count": 2,
   "metadata": {
    "collapsed": false
   },
   "outputs": [
    {
     "name": "stdout",
     "output_type": "stream",
     "text": [
      "Ballot measure: I-732 (carbon tax), Yes\n",
      "2,886 contributions\n",
      "1,483 donors\n",
      "$1,555,653.99 raised\n",
      "$539.03 average contribution\n",
      "$100,000.00 is the largest contribution\n",
      "Top 5 zipcodes:\n",
      "98040: $173,345.00 in 96 contributions\n"
     ]
    },
    {
     "ename": "NameError",
     "evalue": "name 'unemployment_results' is not defined",
     "output_type": "error",
     "traceback": [
      "\u001b[0;31m---------------------------------------------------------------------------\u001b[0m",
      "\u001b[0;31mNameError\u001b[0m                                 Traceback (most recent call last)",
      "\u001b[0;32m<ipython-input-2-98564658789c>\u001b[0m in \u001b[0;36m<module>\u001b[0;34m()\u001b[0m\n\u001b[1;32m     37\u001b[0m                 print '%s: %s in %d contributions' % (\n\u001b[1;32m     38\u001b[0m                     zipcode['zipcode'], locale.currency(zipcode['sum'], grouping=True), zipcode['num'])\n\u001b[0;32m---> 39\u001b[0;31m                 \u001b[0;32mif\u001b[0m \u001b[0mzipcode\u001b[0m\u001b[0;34m[\u001b[0m\u001b[0;34m'zipcode'\u001b[0m\u001b[0;34m]\u001b[0m \u001b[0;32min\u001b[0m \u001b[0munemployment_results\u001b[0m\u001b[0;34m:\u001b[0m\u001b[0;34m\u001b[0m\u001b[0m\n\u001b[0m\u001b[1;32m     40\u001b[0m                     \u001b[0;32mprint\u001b[0m \u001b[0;34m'Unemployment rate for this zipcode is %.2f%%'\u001b[0m \u001b[0;34m%\u001b[0m \u001b[0munemployment_results\u001b[0m\u001b[0;34m[\u001b[0m\u001b[0mzipcode\u001b[0m\u001b[0;34m[\u001b[0m\u001b[0;34m'zipcode'\u001b[0m\u001b[0;34m]\u001b[0m\u001b[0;34m]\u001b[0m\u001b[0;34m\u001b[0m\u001b[0m\n\u001b[1;32m     41\u001b[0m             \u001b[0;32mfor\u001b[0m \u001b[0mzipcode\u001b[0m \u001b[0;32min\u001b[0m \u001b[0mzipcodes\u001b[0m\u001b[0;34m:\u001b[0m\u001b[0;34m\u001b[0m\u001b[0m\n",
      "\u001b[0;31mNameError\u001b[0m: name 'unemployment_results' is not defined"
     ]
    }
   ],
   "source": [
    "from collections import OrderedDict\n",
    "from django.db.models import Avg, Max\n",
    "\n",
    "measures = OrderedDict()\n",
    "\n",
    "measures['I-732 (carbon tax)'] = {'yes': ['CARBW  103'], 'no': ['NO732  507', 'NORTPP 501']}\n",
    "measures['I-735 (constitutional amendment)'] = {'yes': ['FIX DF 103', 'WASTCA 166'], 'no': []}\n",
    "measures['I-1433 (minimum wage)'] = {'yes': ['RAISUW 101'], 'no': ['NO  I1 507']}\n",
    "measures['I-1464 (campaign finance)'] = {'yes': ['INTEW  109'], 'no': ['NO1464 005', 'COALSC 107']}\n",
    "measures['I-1491 (gun control)'] = {'yes': ['ALLIGR 111'], 'no': ['KN1491 052']}\n",
    "measures['I-1501 (senior ID theft)'] = {'yes': ['CAMPPF 111'], 'no': []}\n",
    "measures['I-1515 (transgender bathrooms)'] = {'yes': ['JUSTWP 012'], 'no': ['WASHWD 111']}\n",
    "measures['ST3'] = {'yes': ['MASSTN 101'], 'no': ['NO  ST 034', 'FAMIST 009']}\n",
    "measures['Seattle-124 (hotel workers)'] = {'yes': ['SEATPW 121'], 'no': ['COMMEA 501']}\n",
    "\n",
    "zipcode_funding = {}\n",
    "\n",
    "for measure in measures:\n",
    "    for idx, side in enumerate(['yes', 'no']):\n",
    "        print 'Ballot measure: %s, %s' % (measure, side.title())\n",
    "        contributions = ScrapedContribution.objects.filter(filing_committee__filer_id__in=measures[measure][side])\n",
    "        if not contributions:\n",
    "            print 'No contributions on file'\n",
    "        else:\n",
    "            print locale.format('%d', contributions.count(), grouping=True), 'contributions'\n",
    "            donors = contributions.values('donor', 'city', 'state').distinct()\n",
    "            print locale.format('%d', donors.count(), grouping=True), 'donors'\n",
    "            print locale.currency(contributions.aggregate(Sum('amount'))['amount__sum'], grouping=True), 'raised'\n",
    "            print locale.currency(\n",
    "                contributions.aggregate(Avg('amount'))['amount__avg'], grouping=True), 'average contribution'\n",
    "            print locale.currency(\n",
    "                contributions.aggregate(Max('amount'))['amount__max'], grouping=True), 'is the largest contribution'\n",
    "            zipcodes = contributions.values('zipcode').annotate(\n",
    "                sum=Sum('amount'), num=Count('date')).order_by('-sum')\n",
    "            print 'Top 5 zipcodes:'\n",
    "            for zipcode in zipcodes[:5]:    \n",
    "                print '%s: %s in %d contributions' % (\n",
    "                    zipcode['zipcode'], locale.currency(zipcode['sum'], grouping=True), zipcode['num'])\n",
    "                if zipcode['zipcode'] in unemployment_results:\n",
    "                    print 'Unemployment rate for this zipcode is %.2f%%' % unemployment_results[zipcode['zipcode']]\n",
    "            for zipcode in zipcodes:\n",
    "                zc = zipcode['zipcode'][:5]\n",
    "                if zc not in zipcode_funding:\n",
    "                    zipcode_funding[zc] = {\n",
    "                        'I-732 (carbon tax)': {'yes': 0., 'no': 0.},\n",
    "                        'I-735 (constitutional amendment)': {'yes': 0., 'no': 0.},\n",
    "                        'I-1433 (minimum wage)': {'yes': 0., 'no': 0.},\n",
    "                        'I-1464 (campaign finance)': {'yes': 0., 'no': 0.},\n",
    "                        'I-1491 (gun control)': {'yes': 0., 'no': 0.},\n",
    "                        'I-1501 (senior ID theft)': {'yes': 0., 'no': 0.},\n",
    "                        'I-1515 (transgender bathrooms)': {'yes': 0., 'no': 0.},\n",
    "                        'ST3': {'yes': 0., 'no': 0.},\n",
    "                        'Seattle-124 (hotel workers)': {'yes': 0., 'no': 0.},\n",
    "                        'unemployment': -1.,\n",
    "                        'percent_white': -1.,\n",
    "                        'percent_black': -1.,\n",
    "                        'percent_asian': -1.,\n",
    "                        'percent_hispanic': -1.,\n",
    "                        'median_age': -1.\n",
    "                    }\n",
    "                zipcode_funding[zc][measure][side] += float(zipcode['sum'])\n",
    "        if idx < 1:\n",
    "            print '\\n'\n",
    "    print '-------\\n'"
   ]
  },
  {
   "cell_type": "code",
   "execution_count": null,
   "metadata": {
    "collapsed": true
   },
   "outputs": [],
   "source": []
  }
 ],
 "metadata": {
  "kernelspec": {
   "display_name": "Python 2",
   "language": "python",
   "name": "python2"
  },
  "language_info": {
   "codemirror_mode": {
    "name": "ipython",
    "version": 2
   },
   "file_extension": ".py",
   "mimetype": "text/x-python",
   "name": "python",
   "nbconvert_exporter": "python",
   "pygments_lexer": "ipython2",
   "version": "2.7.6"
  }
 },
 "nbformat": 4,
 "nbformat_minor": 1
}
