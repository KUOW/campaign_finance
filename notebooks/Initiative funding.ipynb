{
 "cells": [
  {
   "cell_type": "code",
   "execution_count": 1,
   "metadata": {
    "collapsed": true
   },
   "outputs": [],
   "source": [
    "import django\n",
    "import sys\n",
    "import os\n",
    "sys.path.append('..')\n",
    "\n",
    "from django.conf import settings\n",
    "django.setup()\n",
    "\n",
    "from campfin_data.models import *\n",
    "import locale\n",
    "locale.setlocale(locale.LC_ALL, 'en_US')\n",
    "from django.db.models import Q, Sum, Count"
   ]
  },
  {
   "cell_type": "code",
   "execution_count": 2,
   "metadata": {
    "collapsed": false
   },
   "outputs": [
    {
     "name": "stdout",
     "output_type": "stream",
     "text": [
      "[{'bands': {'less than 100': 45550.87, 'less than 1000': 304193.5, 'less than 10000': 375909.62, '10000 or more': 830000.0}, 'name': '732: Carbon tax - Yes'}, {'bands': {'less than 100': 220.0, 'less than 1000': 9250.0, 'less than 10000': 102000.0, '10000 or more': 1332000.0}, 'name': '732: Carbon tax - No'}, {'bands': {'less than 100': 79041.86, 'less than 1000': 139027.56, 'less than 10000': 152689.0, '10000 or more': 126191.44}, 'name': '735: Citizens United - Yes'}, {'bands': {'less than 100': 0, 'less than 1000': 0}, 'name': '735: Citizens United - No'}, {'bands': {'less than 100': 21820.27, 'less than 1000': 12705.8, 'less than 10000': 68500.0, '10000 or more': 3353000.0}, 'name': '1433: Minimum wage - Yes'}, {'bands': {'less than 100': 0, 'less than 1000': 500.0, 'less than 10000': 9000.0, '10000 or more': 60000.0}, 'name': '1433: Minimum wage - No'}, {'bands': {'less than 100': 26608.42, 'less than 1000': 16549.0, 'less than 10000': 22300.0, '10000 or more': 3949999.99}, 'name': '1464: Campaign finance - Yes'}, {'bands': {'less than 100': 0, 'less than 1000': 0, 'less than 10000': 18000.0, '10000 or more': 10000.0}, 'name': '1464: Campaign finance - No'}, {'bands': {'less than 100': 361407.34, 'less than 1000': 403973.0, 'less than 10000': 363491.0, '10000 or more': 2741000.0}, 'name': '1491: Guns - Yes'}, {'bands': {'less than 100': 0, 'less than 1000': 0}, 'name': '1491: Guns - No'}, {'bands': {'less than 100': 50.0, 'less than 1000': 0, '10000 or more': 1825000.0}, 'name': '1501: ID theft/privacy - Yes'}, {'bands': {'less than 100': 0, 'less than 1000': 0}, 'name': '1501: ID theft/privacy - No'}, {'bands': {'less than 100': 3928.0, 'less than 1000': 15933.0, 'less than 10000': 228000.0, '10000 or more': 3420500.0}, 'name': 'Sound Transit 3 - Yes'}, {'bands': {'less than 100': 999.0, 'less than 1000': 8025.0, 'less than 10000': 20000.0, '10000 or more': 718000.0}, 'name': 'Sound Transit 3 - No'}]\n"
     ]
    }
   ],
   "source": [
    "from collections import OrderedDict\n",
    "\n",
    "committees = OrderedDict()\n",
    "committees['732'] = {'yes': ['CARBW  103'], 'no': ['NO732  507', 'NORTPP 501'], 'name': '732: Carbon tax'}\n",
    "committees['735'] = {'yes': ['FIX DF 103', 'WASTCA 166'], 'no': [], 'name': '735: Citizens United'}\n",
    "committees['1433'] = {'yes': ['RAISUW 101'], 'no': ['NO  I1 507'], 'name': '1433: Minimum wage'}\n",
    "committees['1464'] = {'yes': ['INTEW  109'], 'no': ['COALSC 107', 'NO1464 005'], 'name': '1464: Campaign finance'}\n",
    "committees['1491'] = {'yes': ['ALLIGR 111'], 'no': ['KN1491 052'], 'name': '1491: Guns'}\n",
    "committees['1501'] = {'yes': ['CAMPPF 111'], 'no': [], 'name': '1501: ID theft/privacy'}\n",
    "committees['st3'] = {'yes': ['MASSTN 101'], 'no': ['FAMIST 009', 'NO  ST 034'], 'name': 'Sound Transit 3'}\n",
    "\n",
    "contrib_bands = OrderedDict()\n",
    "output = []\n",
    "\n",
    "for cmte in committees:\n",
    "    contrib_bands[cmte] = {'name': committees[cmte]['name'], 'sides': {'yes': {}, 'no': {}}}\n",
    "    for side in ['yes', 'no']:\n",
    "        contribs = ScrapedContribution.objects.filter(filing_committee__filer_id__in=committees[cmte][side])\n",
    "        try:\n",
    "            contrib_bands[cmte]['sides'][side]['less than 100'] = float(contribs.filter(\n",
    "                amount__lt=100).aggregate(Sum('amount'))['amount__sum'])\n",
    "        except:\n",
    "            contrib_bands[cmte]['sides'][side]['less than 100'] = 0\n",
    "        try:\n",
    "            contrib_bands[cmte]['sides'][side]['less than 1000'] = float(contribs.filter(\n",
    "                amount__gte=100, amount__lt=1000).aggregate(Sum('amount'))['amount__sum'])\n",
    "        except:\n",
    "            contrib_bands[cmte]['sides'][side]['less than 1000'] = 0\n",
    "        try:\n",
    "            contrib_bands[cmte]['sides'][side]['less than 10000'] = float(contribs.filter(\n",
    "                amount__gte=1000, amount__lt=10000).aggregate(Sum('amount'))['amount__sum'])\n",
    "        except:\n",
    "            contrib_bands[cmte]['sides'][side]['less than 1000'] = 0\n",
    "        try:\n",
    "            contrib_bands[cmte]['sides'][side]['10000 or more'] = float(contribs.filter(\n",
    "                amount__gte=10000).aggregate(Sum('amount'))['amount__sum'])\n",
    "        except:\n",
    "            contrib_bands[cmte]['sides'][side]['less than 1000'] = 0\n",
    "        \n",
    "        output.append({\n",
    "            'name': '%s - %s' % (committees[cmte]['name'], side.title()),\n",
    "            'bands': {key: contrib_bands[cmte]['sides'][side][key] for key in contrib_bands[cmte]['sides'][side]}\n",
    "        })\n",
    "print output"
   ]
  },
  {
   "cell_type": "code",
   "execution_count": null,
   "metadata": {
    "collapsed": true
   },
   "outputs": [],
   "source": []
  }
 ],
 "metadata": {
  "kernelspec": {
   "display_name": "Python 2",
   "language": "python",
   "name": "python2"
  },
  "language_info": {
   "codemirror_mode": {
    "name": "ipython",
    "version": 2
   },
   "file_extension": ".py",
   "mimetype": "text/x-python",
   "name": "python",
   "nbconvert_exporter": "python",
   "pygments_lexer": "ipython2",
   "version": "2.7.6"
  }
 },
 "nbformat": 4,
 "nbformat_minor": 1
}
