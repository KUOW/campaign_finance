{
 "cells": [
  {
   "cell_type": "code",
   "execution_count": 1,
   "metadata": {
    "collapsed": true
   },
   "outputs": [],
   "source": [
    "import django\n",
    "import sys\n",
    "import os\n",
    "sys.path.append('..')\n",
    "\n",
    "from django.conf import settings\n",
    "django.setup()\n",
    "\n",
    "from campfin_data.models import *\n",
    "import locale\n",
    "locale.setlocale(locale.LC_ALL, 'en_US')\n",
    "from django.db.models import Q, Sum, Count"
   ]
  },
  {
   "cell_type": "code",
   "execution_count": 27,
   "metadata": {
    "collapsed": false
   },
   "outputs": [
    {
     "name": "stdout",
     "output_type": "stream",
     "text": [
      "\n"
     ]
    }
   ],
   "source": [
    "import pkg_resources\n",
    "\n",
    "def get_pkg_license(pkg):\n",
    "    \"\"\"\n",
    "    Given a package reference (as from requirements.txt),\n",
    "    return license listed in package metadata.\n",
    "    NOTE: This function does no error checking and is for\n",
    "    demonstration purposes only.\n",
    "    \"\"\"\n",
    "    #pkgs = pkg_resources.require(pkgname)\n",
    "    #pkg = pkgs[0]\n",
    "    try:\n",
    "        for line in pkg.get_metadata_lines('PKG-INFO'):\n",
    "            (k, v) = line.split(': ', 1)\n",
    "            if k == \"License\":\n",
    "                return v\n",
    "    except:\n",
    "        for line in pkg.get_metadata_lines('METADATA'):\n",
    "            (k, v) = line.split(': ', 1)\n",
    "            if k == \"License\":\n",
    "                return v\n",
    "    return None"
   ]
  },
  {
   "cell_type": "code",
   "execution_count": 28,
   "metadata": {
    "collapsed": false
   },
   "outputs": [
    {
     "ename": "AttributeError",
     "evalue": "'str' object has no attribute 'get_metadata_lines'",
     "output_type": "error",
     "traceback": [
      "\u001b[0;31m---------------------------------------------------------------------------\u001b[0m",
      "\u001b[0;31mAttributeError\u001b[0m                            Traceback (most recent call last)",
      "\u001b[0;32m<ipython-input-28-4d8d06c937f5>\u001b[0m in \u001b[0;36m<module>\u001b[0;34m()\u001b[0m\n\u001b[0;32m----> 1\u001b[0;31m \u001b[0mget_pkg_license\u001b[0m\u001b[0;34m(\u001b[0m\u001b[0;34m'django'\u001b[0m\u001b[0;34m)\u001b[0m\u001b[0;34m\u001b[0m\u001b[0m\n\u001b[0m",
      "\u001b[0;32m<ipython-input-27-4066c8806b47>\u001b[0m in \u001b[0;36mget_pkg_license\u001b[0;34m(pkg)\u001b[0m\n\u001b[1;32m     16\u001b[0m                 \u001b[0;32mreturn\u001b[0m \u001b[0mv\u001b[0m\u001b[0;34m\u001b[0m\u001b[0m\n\u001b[1;32m     17\u001b[0m     \u001b[0;32mexcept\u001b[0m\u001b[0;34m:\u001b[0m\u001b[0;34m\u001b[0m\u001b[0m\n\u001b[0;32m---> 18\u001b[0;31m         \u001b[0;32mfor\u001b[0m \u001b[0mline\u001b[0m \u001b[0;32min\u001b[0m \u001b[0mpkg\u001b[0m\u001b[0;34m.\u001b[0m\u001b[0mget_metadata_lines\u001b[0m\u001b[0;34m(\u001b[0m\u001b[0;34m'METADATA'\u001b[0m\u001b[0;34m)\u001b[0m\u001b[0;34m:\u001b[0m\u001b[0;34m\u001b[0m\u001b[0m\n\u001b[0m\u001b[1;32m     19\u001b[0m             \u001b[0;34m(\u001b[0m\u001b[0mk\u001b[0m\u001b[0;34m,\u001b[0m \u001b[0mv\u001b[0m\u001b[0;34m)\u001b[0m \u001b[0;34m=\u001b[0m \u001b[0mline\u001b[0m\u001b[0;34m.\u001b[0m\u001b[0msplit\u001b[0m\u001b[0;34m(\u001b[0m\u001b[0;34m': '\u001b[0m\u001b[0;34m,\u001b[0m \u001b[0;36m1\u001b[0m\u001b[0;34m)\u001b[0m\u001b[0;34m\u001b[0m\u001b[0m\n\u001b[1;32m     20\u001b[0m             \u001b[0;32mif\u001b[0m \u001b[0mk\u001b[0m \u001b[0;34m==\u001b[0m \u001b[0;34m\"License\"\u001b[0m\u001b[0;34m:\u001b[0m\u001b[0;34m\u001b[0m\u001b[0m\n",
      "\u001b[0;31mAttributeError\u001b[0m: 'str' object has no attribute 'get_metadata_lines'"
     ]
    }
   ],
   "source": [
    "get_pkg_license('django')"
   ]
  },
  {
   "cell_type": "code",
   "execution_count": 29,
   "metadata": {
    "collapsed": false
   },
   "outputs": [
    {
     "name": "stdout",
     "output_type": "stream",
     "text": [
      "Python 2.7.6 PSF license\n",
      "wsgiref 0.1.2 PSF or ZPL\n",
      "zope.interface 4.3.2 ZPL 2.1\n",
      "zope.index 4.2.0 ZPL 2.1\n",
      "widgetsnbextension 1.2.6 BSD\n",
      "wheel 0.30.0a0 MIT\n",
      "wcwidth 0.1.7 MIT\n",
      "usaddress 0.5.7 The MIT License: http://www.opensource.org/licenses/mit-license.php\n",
      "urllib3 1.15.1 MIT\n",
      "Unidecode 0.4.19 GPL\n",
      "traitlets 4.3.1 BSD\n",
      "tornado 4.4.2 http://www.apache.org/licenses/LICENSE-2.0\n",
      "terminado 0.6 UNKNOWN\n",
      "sqlparse 0.1.19 BSD\n",
      "six 1.10.0 MIT\n",
      "singledispatch 3.4.0.3 MIT\n",
      "simplejson 3.8.2 MIT License\n",
      "simplegeneric 0.8.1 ZPL 2.1\n",
      "simplecosine 1.1 The MIT License: http://www.opensource.org/licenses/mit-license.php\n",
      "setuptools 29.0.1 UNKNOWN\n",
      "rlr 2.4 Apache 2.0 License: https://www.apache.org/licenses/LICENSE-2.0\n",
      "requests 2.9.1 Apache 2.0\n",
      "requests-aws4auth 0.9 MIT License\n",
      "ratelim 0.1.6 MIT\n",
      "qtconsole 4.2.1 BSD\n",
      "pyzmq 16.0.2 LGPL+BSD\n",
      "pytz 2016.4 MIT\n",
      "python-Levenshtein 0.12.0 GPL\n",
      "python-dateutil 2.5.3 Simplified BSD\n",
      "python-crfsuite 0.8.4 UNKNOWN\n",
      "PyLBFGS 0.2.0.3 UNKNOWN\n",
      "pyhacrf-datamade 0.2.0 UNKNOWN\n",
      "Pygments 2.1.3 BSD License\n",
      "ptyprocess 0.5.1 UNKNOWN\n",
      "psycopg2 2.6.1 LGPL with exceptions or ZPL\n",
      "prompt-toolkit 1.0.9 UNKNOWN\n",
      "probableparsing 0.0.1 The MIT License: http://www.opensource.org/licenses/mit-license.php\n",
      "pip 9.0.1 MIT\n",
      "pickleshare 0.7.4 MIT\n",
      "pexpect 4.2.1 ISC license\n",
      "persistent 4.2.1 ZPL 2.1\n",
      "pathlib2 2.1.0 MIT\n",
      "pandas 0.18.1 BSD\n",
      "numpy 1.11.0 BSD\n",
      "notebook 4.2.3 BSD\n",
      "nbformat 4.1.0 BSD\n",
      "nbconvert 4.2.0 BSD\n",
      "mistune 0.7.3 BSD\n",
      "Metafone 0.5 BSD\n",
      "MarkupSafe 0.23 BSD\n",
      "lxml 3.6.0 UNKNOWN\n",
      "jupyter 1.0.0 BSD\n",
      "jupyter-core 4.2.0 BSD\n",
      "jupyter-console 5.0.0 BSD\n",
      "jupyter-client 4.4.0 BSD\n",
      "jsonschema 2.5.1 MIT\n",
      "Jinja2 2.8 BSD\n",
      "jellyfish 0.5.6 UNKNOWN\n",
      "ipywidgets 5.2.2 BSD\n",
      "ipython 5.1.0 BSD\n",
      "ipython-genutils 0.1.0 BSD\n",
      "ipykernel 4.5.2 BSD\n",
      "highered 0.2.1 The MIT License: http://www.opensource.org/licenses/mit-license.php\n",
      "haversine 0.4.5 ['MIT']\n",
      "gunicorn 19.4.5 MIT\n",
      "geocoder 1.13.0 The MIT License\n",
      "fuzzywuzzy 0.11.1 Copyright (c) 2014 SeatGeek, Inc.\n",
      "future 0.15.2 MIT\n",
      "functools32 3.2.3.post2 PSF license\n",
      "fastcluster 1.1.20 BSD <http://opensource.org/licenses/BSD-2-Clause>\n",
      "enum34 1.1.6 BSD License\n",
      "entrypoints 0.2.2 UNKNOWN\n",
      "elasticsearch 2.3.0 Apache License, Version 2.0\n",
      "DoubleMetaphone 0.1 UNKNOWN\n",
      "Django 1.9.5 BSD\n",
      "django-debug-toolbar 1.4 BSD\n",
      "django-cors-headers 1.1.0 MIT License\n",
      "dedupe 1.4.15 UNKNOWN\n",
      "dedupe-hcluster 0.3.2 SciPy License (BSD Style)\n",
      "decorator 4.0.9 new BSD License\n",
      "configparser 3.5.0 MIT\n",
      "click 6.6 UNKNOWN\n",
      "certifi 2016.9.26 ISC\n",
      "categorical-distance 1.9 The MIT License: http://www.opensource.org/licenses/mit-license.php\n",
      "canonicalize 1.3 The MIT License: http://www.opensource.org/licenses/mit-license.php\n",
      "BTrees 4.3.1 ZPL 2.1\n",
      "boto 2.40.0 MIT\n",
      "backports.ssl-match-hostname 3.5.0.1 Python Software Foundation License\n",
      "backports.shutil-get-terminal-size 1.0.0 MIT\n",
      "backports-abc 0.5 UNKNOWN\n",
      "appnope 0.1.0 BSD\n",
      "affinegap 1.10 The MIT License: http://www.opensource.org/licenses/mit-license.php\n",
      "django-haystack 2.5.dev0 UNKNOWN\n",
      "leather 0.1.0 MIT\n"
     ]
    }
   ],
   "source": [
    "for ws in pkg_resources.working_set:\n",
    "    print ws, get_pkg_license(ws)"
   ]
  },
  {
   "cell_type": "code",
   "execution_count": null,
   "metadata": {
    "collapsed": true
   },
   "outputs": [],
   "source": []
  }
 ],
 "metadata": {
  "kernelspec": {
   "display_name": "Python 2",
   "language": "python",
   "name": "python2"
  },
  "language_info": {
   "codemirror_mode": {
    "name": "ipython",
    "version": 2
   },
   "file_extension": ".py",
   "mimetype": "text/x-python",
   "name": "python",
   "nbconvert_exporter": "python",
   "pygments_lexer": "ipython2",
   "version": "2.7.6"
  }
 },
 "nbformat": 4,
 "nbformat_minor": 1
}
