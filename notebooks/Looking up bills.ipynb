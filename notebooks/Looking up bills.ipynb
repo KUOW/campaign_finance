{
 "cells": [
  {
   "cell_type": "code",
   "execution_count": 1,
   "metadata": {
    "collapsed": true
   },
   "outputs": [],
   "source": [
    "import django\n",
    "import sys\n",
    "import os\n",
    "sys.path.append('..')\n",
    "\n",
    "from django.conf import settings\n",
    "django.setup()\n",
    "\n",
    "from campfin_data.models import *\n",
    "import locale\n",
    "locale.setlocale(locale.LC_ALL, 'en_US')\n",
    "from django.db.models import Q, Sum, Count"
   ]
  },
  {
   "cell_type": "code",
   "execution_count": 2,
   "metadata": {
    "collapsed": true
   },
   "outputs": [],
   "source": [
    "# Bills the dental PAC cares about\n",
    "bills = [\n",
    "    ('HB 1027', 'SB 5159', 'Dental health aide therapists (midlevel provider)', 'oppose'),\n",
    "    ('HB 1421', 'SB 5465', 'Concerning midlevel dental professionals', 'oppose'),\n",
    "    ('HB 1441', '', 'Dental health services in tribal settings', 'oppose'),\n",
    "    ('HB 2531',\n",
    "     'SB 6318',\n",
    "     'Concerning ownership, maintenance, and operation of an office within the practice of dentistry',\n",
    "     'support'),\n",
    "    ('HB 1514', '', 'Dental office support services', 'oppose'),\n",
    "    ('HB 2517', 'SB 6275', 'Dental office support services', 'oppose'),\n",
    "    ('HB 2819', 'SB 6404', 'Concerning dental licensure through completion of a residency program', 'support'),\n",
    "    ('HB 1080',\n",
    "     'SB 5010',\n",
    "     'Restoring funding to the health professional loan repayment and scholarship fund',\n",
    "     'support'),\n",
    "    ('HB 2313', 'SB 6157', 'Raising the minimum legal smoking age to 21', 'support'),\n",
    "    ('HB 1384',\n",
    "     'SB 5606',\n",
    "     'Modifying provisions related to licensing and scope of practice for dental professionals',\n",
    "     'support'),\n",
    "    ('HB 1002', '', 'Prohibiting unfair and deceptive dental insurance practices', 'support'),\n",
    "    ('HB 1712', '', 'Concerning audit procedures to assist Medicaid providers', 'support'),\n",
    "    ('HB 1852', '', 'Ensuring consumer choice through the health benefit exchange (pediatric)', 'support'),\n",
    "    ('HB 2498',\n",
    "     '',\n",
    "     'Reforming the current prior authorization for dental services and supplies in medical assistance programs',\n",
    "     'support'),\n",
    "    ('HB 2499', '', 'Addressing fair insurance practices', 'support'),\n",
    "    ('', 'SB 6648', 'Concerning benefits and exclusion within dental benefit coverage', 'support')\n",
    "]"
   ]
  },
  {
   "cell_type": "code",
   "execution_count": 3,
   "metadata": {
    "collapsed": false
   },
   "outputs": [
    {
     "ename": "ImportError",
     "evalue": "No module named sunlight",
     "output_type": "error",
     "traceback": [
      "\u001b[0;31m---------------------------------------------------------------------------\u001b[0m",
      "\u001b[0;31mImportError\u001b[0m                               Traceback (most recent call last)",
      "\u001b[0;32m<ipython-input-3-108db6e7d1af>\u001b[0m in \u001b[0;36m<module>\u001b[0;34m()\u001b[0m\n\u001b[0;32m----> 1\u001b[0;31m \u001b[0;32mfrom\u001b[0m \u001b[0msunlight\u001b[0m \u001b[0;32mimport\u001b[0m \u001b[0mopenstates\u001b[0m\u001b[0;34m\u001b[0m\u001b[0m\n\u001b[0m\u001b[1;32m      2\u001b[0m \u001b[0mlegislators\u001b[0m \u001b[0;34m=\u001b[0m \u001b[0;34m{\u001b[0m\u001b[0;34m}\u001b[0m\u001b[0;34m\u001b[0m\u001b[0m\n\u001b[1;32m      3\u001b[0m \u001b[0;34m\u001b[0m\u001b[0m\n\u001b[1;32m      4\u001b[0m \u001b[0;32mfor\u001b[0m \u001b[0mbill\u001b[0m \u001b[0;32min\u001b[0m \u001b[0mbills\u001b[0m\u001b[0;34m:\u001b[0m\u001b[0;34m\u001b[0m\u001b[0m\n\u001b[1;32m      5\u001b[0m     \u001b[0;32mfor\u001b[0m \u001b[0mbill_id\u001b[0m \u001b[0;32min\u001b[0m \u001b[0;34m[\u001b[0m\u001b[0mbid\u001b[0m \u001b[0;32mfor\u001b[0m \u001b[0mbid\u001b[0m \u001b[0;32min\u001b[0m \u001b[0;34m[\u001b[0m\u001b[0mbill\u001b[0m\u001b[0;34m[\u001b[0m\u001b[0;36m0\u001b[0m\u001b[0;34m]\u001b[0m\u001b[0;34m,\u001b[0m \u001b[0mbill\u001b[0m\u001b[0;34m[\u001b[0m\u001b[0;36m1\u001b[0m\u001b[0;34m]\u001b[0m\u001b[0;34m]\u001b[0m\u001b[0;34m]\u001b[0m\u001b[0;34m:\u001b[0m\u001b[0;34m\u001b[0m\u001b[0m\n",
      "\u001b[0;31mImportError\u001b[0m: No module named sunlight"
     ]
    }
   ],
   "source": [
    "from sunlight import openstates\n",
    "legislators = {}\n",
    "\n",
    "for bill in bills:\n",
    "    for bill_id in [bid for bid in [bill[0], bill[1]]]:\n",
    "        if bill_id:\n",
    "            detail = openstates.bill_detail('wa', '2015-2016', bill_id)\n",
    "            if len(detail['votes']):\n",
    "                # Question is whether vote corresponded to PAC position.\n",
    "                # Other = other unless PAC position is other\n",
    "                # Otherwise (heh), agreement/disagreement with PAC is what we want to capture\n",
    "                for vote_type in [('yes_votes', 'support'), ('no_votes', 'oppose'), ('other_votes', 'other')]:\n",
    "                    if vote_type[1] == 'other' and vote_type[1] != bill[3]:\n",
    "                        category = 'other'\n",
    "                    elif vote_type[1] != bill[3]:\n",
    "                        category = 'oppose'\n",
    "                    else:\n",
    "                        category = 'support'\n",
    "                    for bill_vote in detail['votes']:\n",
    "                        for vote in bill_vote[vote_type[0]]:\n",
    "                            key = vote['leg_id']\n",
    "                            if key not in legislators:\n",
    "                                legislators[key] = {\n",
    "                                    'name': sponsor['name'],\n",
    "                                    'sponsored': {\n",
    "                                        'support': [],\n",
    "                                        'oppose': []\n",
    "                                    },\n",
    "                                    'voted': {\n",
    "                                        'support': [],\n",
    "                                        'oppose': [],\n",
    "                                        'other': []\n",
    "                                    }\n",
    "                                }\n",
    "                            legislators[key]['voted'][category].append(bill_id)\n",
    "            for sponsor in detail['sponsors']:\n",
    "                key = sponsor['leg_id']\n",
    "                if key not in legislators:\n",
    "                    legislators[key] = {\n",
    "                        'name': sponsor['name'],\n",
    "                        'sponsored': {\n",
    "                            'support': [],\n",
    "                            'oppose': []\n",
    "                        },\n",
    "                        'voted': {\n",
    "                            'support': [],\n",
    "                            'oppose': [],\n",
    "                            'other': []\n",
    "                        }\n",
    "                    }\n",
    "                legislators[key]['sponsored'][bill[3]].append(bill_id)"
   ]
  },
  {
   "cell_type": "code",
   "execution_count": 4,
   "metadata": {
    "collapsed": false
   },
   "outputs": [
    {
     "ename": "NameError",
     "evalue": "name 'legislators' is not defined",
     "output_type": "error",
     "traceback": [
      "\u001b[0;31m---------------------------------------------------------------------------\u001b[0m",
      "\u001b[0;31mNameError\u001b[0m                                 Traceback (most recent call last)",
      "\u001b[0;32m<ipython-input-4-b200367d7b36>\u001b[0m in \u001b[0;36m<module>\u001b[0;34m()\u001b[0m\n\u001b[1;32m      1\u001b[0m \u001b[0mmissing_legislators\u001b[0m \u001b[0;34m=\u001b[0m \u001b[0;34m[\u001b[0m\u001b[0;34m]\u001b[0m\u001b[0;34m\u001b[0m\u001b[0m\n\u001b[0;32m----> 2\u001b[0;31m \u001b[0;32mfor\u001b[0m \u001b[0mlegislator\u001b[0m \u001b[0;32min\u001b[0m \u001b[0mlegislators\u001b[0m\u001b[0;34m:\u001b[0m\u001b[0;34m\u001b[0m\u001b[0m\n\u001b[0m\u001b[1;32m      3\u001b[0m     \u001b[0mcmtes\u001b[0m \u001b[0;34m=\u001b[0m \u001b[0mScrapedCommittee\u001b[0m\u001b[0;34m.\u001b[0m\u001b[0mobjects\u001b[0m\u001b[0;34m.\u001b[0m\u001b[0mfilter\u001b[0m\u001b[0;34m(\u001b[0m\u001b[0mcommittee_group\u001b[0m\u001b[0;34m=\u001b[0m\u001b[0;34m'leg'\u001b[0m\u001b[0;34m,\u001b[0m \u001b[0mname__icontains\u001b[0m\u001b[0;34m=\u001b[0m\u001b[0mlegislators\u001b[0m\u001b[0;34m[\u001b[0m\u001b[0mlegislator\u001b[0m\u001b[0;34m]\u001b[0m\u001b[0;34m[\u001b[0m\u001b[0;34m'name'\u001b[0m\u001b[0;34m]\u001b[0m\u001b[0;34m)\u001b[0m\u001b[0;34m\u001b[0m\u001b[0m\n\u001b[1;32m      4\u001b[0m     \u001b[0;32mif\u001b[0m \u001b[0mlen\u001b[0m\u001b[0;34m(\u001b[0m\u001b[0mset\u001b[0m\u001b[0;34m(\u001b[0m\u001b[0;34m[\u001b[0m\u001b[0mcmte\u001b[0m\u001b[0;34m.\u001b[0m\u001b[0mname\u001b[0m \u001b[0;32mfor\u001b[0m \u001b[0mcmte\u001b[0m \u001b[0;32min\u001b[0m \u001b[0mcmtes\u001b[0m\u001b[0;34m]\u001b[0m\u001b[0;34m)\u001b[0m\u001b[0;34m)\u001b[0m \u001b[0;34m==\u001b[0m \u001b[0;36m1\u001b[0m\u001b[0;34m:\u001b[0m\u001b[0;34m\u001b[0m\u001b[0m\n\u001b[1;32m      5\u001b[0m         \u001b[0mlegislators\u001b[0m\u001b[0;34m[\u001b[0m\u001b[0mlegislator\u001b[0m\u001b[0;34m]\u001b[0m\u001b[0;34m[\u001b[0m\u001b[0;34m'committees'\u001b[0m\u001b[0;34m]\u001b[0m \u001b[0;34m=\u001b[0m \u001b[0mcmtes\u001b[0m\u001b[0;34m\u001b[0m\u001b[0m\n",
      "\u001b[0;31mNameError\u001b[0m: name 'legislators' is not defined"
     ]
    }
   ],
   "source": [
    "missing_legislators = []\n",
    "for legislator in legislators:\n",
    "    cmtes = ScrapedCommittee.objects.filter(committee_group='leg', name__icontains=legislators[legislator]['name'])\n",
    "    if len(set([cmte.name for cmte in cmtes])) == 1:\n",
    "        legislators[legislator]['committees'] = cmtes\n",
    "    else:\n",
    "        missing_legislators.append(legislators[legislator]['name'])\n",
    "        legislators[legislator]['committees'] = []\n",
    "print len(missing_legislators)\n",
    "print '; '.join(missing_legislators)\n",
    "print len(legislators)"
   ]
  },
  {
   "cell_type": "code",
   "execution_count": 5,
   "metadata": {
    "collapsed": false
   },
   "outputs": [
    {
     "ename": "NameError",
     "evalue": "name 'legislators' is not defined",
     "output_type": "error",
     "traceback": [
      "\u001b[0;31m---------------------------------------------------------------------------\u001b[0m",
      "\u001b[0;31mNameError\u001b[0m                                 Traceback (most recent call last)",
      "\u001b[0;32m<ipython-input-5-5a4342174f5e>\u001b[0m in \u001b[0;36m<module>\u001b[0;34m()\u001b[0m\n\u001b[1;32m      9\u001b[0m }\n\u001b[1;32m     10\u001b[0m for legislator in sorted(\n\u001b[0;32m---> 11\u001b[0;31m         \u001b[0mlegislators\u001b[0m\u001b[0;34m,\u001b[0m\u001b[0;34m\u001b[0m\u001b[0m\n\u001b[0m\u001b[1;32m     12\u001b[0m         \u001b[0mkey\u001b[0m\u001b[0;34m=\u001b[0m\u001b[0;32mlambda\u001b[0m \u001b[0mk\u001b[0m\u001b[0;34m:\u001b[0m \u001b[0mget_legislator_score\u001b[0m\u001b[0;34m(\u001b[0m\u001b[0mk\u001b[0m\u001b[0;34m)\u001b[0m\u001b[0;34m,\u001b[0m\u001b[0;34m\u001b[0m\u001b[0m\n\u001b[1;32m     13\u001b[0m         reverse=True):\n",
      "\u001b[0;31mNameError\u001b[0m: name 'legislators' is not defined"
     ]
    }
   ],
   "source": [
    "def get_legislator_score(key):\n",
    "    support = len(legislators[key]['sponsored']['support']) + len(legislators[key]['voted']['support'])\n",
    "    oppose = len(legislators[key]['sponsored']['oppose']) + len(legislators[key]['voted']['oppose'])\n",
    "    return support - oppose\n",
    "\n",
    "correlation_data = {\n",
    "    'donations': [],\n",
    "    'scores': []\n",
    "}\n",
    "for legislator in sorted(\n",
    "        legislators,\n",
    "        key=lambda k: get_legislator_score(k),\n",
    "        reverse=True):\n",
    "    print '%s sponsored %d bills supported by the PAC (%s), and %d bills opposed by it (%s)' % (\n",
    "        legislators[legislator]['name'],\n",
    "        len(legislators[legislator]['sponsored']['support']),\n",
    "        '; '.join(legislators[legislator]['sponsored']['support']),\n",
    "        len(legislators[legislator]['sponsored']['oppose']),\n",
    "        '; '.join(legislators[legislator]['sponsored']['oppose']))\n",
    "    print '%s voted with the PAC on %d bills (%s), and against the PAC on %d bills (%s)' % (\n",
    "        legislators[legislator]['name'],\n",
    "        len(legislators[legislator]['voted']['support']),\n",
    "        '; '.join(legislators[legislator]['voted']['support']),\n",
    "        len(legislators[legislator]['voted']['oppose']),\n",
    "        '; '.join(legislators[legislator]['voted']['oppose']))\n",
    "    print '%s voted \"other\" on %d bills' % (\n",
    "        legislators[legislator]['name'],\n",
    "        len(legislators[legislator]['voted']['other']))\n",
    "    print '%s scored %d' % (legislators[legislator]['name'], get_legislator_score(legislator))\n",
    "    contribs = ScrapedContribution.objects.filter(filing_committee__in=legislators[legislator]['committees'])\n",
    "    dental_contribs = contribs.filter(Q(donor__icontains='dental') | Q(donor__icontains='dentist'))\n",
    "    # dental_contribs = contribs.filter(donor__icontains='dental pac')\n",
    "    print '; '.join(set([d.donor for d in dental_contribs]))\n",
    "    dental_contribs = dental_contribs.aggregate(\n",
    "        Count('date'), Sum('amount'))\n",
    "    if legislators[legislator]['committees']:\n",
    "        correlation_data['scores'].append(get_legislator_score(legislator))\n",
    "        if not dental_contribs or not dental_contribs['amount__sum']:\n",
    "            correlation_data['donations'].append(0)\n",
    "        else:\n",
    "            correlation_data['donations'].append(float(dental_contribs['amount__sum']))\n",
    "    if dental_contribs and dental_contribs['date__count']:\n",
    "        print 'Dental organizations gave %d contributions totalling %s' % (\n",
    "            dental_contribs['date__count'], locale.currency(dental_contribs['amount__sum'], grouping=True))\n",
    "    elif not legislators[legislator]['committees']:\n",
    "        print 'No fundraising committees for this legislator'\n",
    "    else:\n",
    "        print 'Unable to find any dental contributions to this legislator'\n",
    "    print '-----'"
   ]
  },
  {
   "cell_type": "code",
   "execution_count": 6,
   "metadata": {
    "collapsed": false
   },
   "outputs": [
    {
     "ename": "ImportError",
     "evalue": "No module named scipy.stats.stats",
     "output_type": "error",
     "traceback": [
      "\u001b[0;31m---------------------------------------------------------------------------\u001b[0m",
      "\u001b[0;31mImportError\u001b[0m                               Traceback (most recent call last)",
      "\u001b[0;32m<ipython-input-6-728cf4103ef4>\u001b[0m in \u001b[0;36m<module>\u001b[0;34m()\u001b[0m\n\u001b[1;32m      1\u001b[0m \u001b[0;31m# Correlation between scores and money?\u001b[0m\u001b[0;34m\u001b[0m\u001b[0;34m\u001b[0m\u001b[0m\n\u001b[0;32m----> 2\u001b[0;31m \u001b[0;32mfrom\u001b[0m \u001b[0mscipy\u001b[0m\u001b[0;34m.\u001b[0m\u001b[0mstats\u001b[0m\u001b[0;34m.\u001b[0m\u001b[0mstats\u001b[0m \u001b[0;32mimport\u001b[0m \u001b[0mpearsonr\u001b[0m\u001b[0;34m\u001b[0m\u001b[0m\n\u001b[0m\u001b[1;32m      3\u001b[0m \u001b[0;34m\u001b[0m\u001b[0m\n\u001b[1;32m      4\u001b[0m \u001b[0;32mprint\u001b[0m \u001b[0mpearsonr\u001b[0m\u001b[0;34m(\u001b[0m\u001b[0mcorrelation_data\u001b[0m\u001b[0;34m[\u001b[0m\u001b[0;34m'scores'\u001b[0m\u001b[0;34m]\u001b[0m\u001b[0;34m,\u001b[0m \u001b[0mcorrelation_data\u001b[0m\u001b[0;34m[\u001b[0m\u001b[0;34m'donations'\u001b[0m\u001b[0;34m]\u001b[0m\u001b[0;34m)\u001b[0m\u001b[0;34m\u001b[0m\u001b[0m\n",
      "\u001b[0;31mImportError\u001b[0m: No module named scipy.stats.stats"
     ]
    }
   ],
   "source": [
    "# Correlation between scores and money?\n",
    "from scipy.stats.stats import pearsonr\n",
    "\n",
    "print pearsonr(correlation_data['scores'], correlation_data['donations'])"
   ]
  },
  {
   "cell_type": "code",
   "execution_count": 7,
   "metadata": {
    "collapsed": false
   },
   "outputs": [
    {
     "name": "stdout",
     "output_type": "stream",
     "text": [
      "THE LEADERSHIP COUNCIL\n",
      "HARRY TRUMAN FUND\n",
      "HOUSE DEMO CAMP COMM\n",
      "WA ST DEMO CENT COMM EXEMPT\n",
      "WA ST DEMO CENT COMM NON EXEMPT\n",
      "WA ST PROGRESSIVE CAUCUS\n",
      "WA ST REPUB PARTY EXEMPT\n",
      "7TH LEG DIST DEMO CENT COMM NON EXEMPT\n",
      "REAGAN FUND\n",
      "SENATE REPUB CAMP COMM\n",
      "WA SENATE DEMO CAMP\n",
      "WA ST REPUB PARTY NON EXEMPT\n",
      "HOUSE REPUB ORG COMM\n",
      "KENNEDY FUND\n"
     ]
    }
   ],
   "source": [
    "cmtes = ScrapedCommittee.objects.filter(committee_group__in=['caucus', 'party_state'])\n",
    "for cmte in cmtes:\n",
    "    print cmte.name"
   ]
  },
  {
   "cell_type": "code",
   "execution_count": 8,
   "metadata": {
    "collapsed": false
   },
   "outputs": [
    {
     "name": "stdout",
     "output_type": "stream",
     "text": [
      "[{'count': 32, 'filing_committee__party': u'NO'}, {'count': 169, 'filing_committee__party': u'L'}, {'count': 34049, 'filing_committee__party': u'D'}, {'count': 27855, 'filing_committee__party': u'R'}, {'count': 3524, 'filing_committee__party': u'O'}]\n",
      "[{'count': 8, 'party': u'NO'}, {'count': 2, 'party': u'N'}, {'count': 25, 'party': u'L'}, {'count': 141, 'party': u'R'}, {'count': 164, 'party': u'D'}, {'count': 16, 'party': u'O'}, {'count': 2, 'party': u'I'}]\n"
     ]
    }
   ],
   "source": [
    "parties = ScrapedContribution.objects.filter(filing_committee__committee_group='leg').values(\n",
    "    'filing_committee__party').annotate(count=Count('filing_committee__name'))\n",
    "print parties\n",
    "parties = ScrapedCommittee.objects.filter(committee_group='leg').values('party').annotate(count=Count('name'))\n",
    "print parties"
   ]
  },
  {
   "cell_type": "code",
   "execution_count": null,
   "metadata": {
    "collapsed": true
   },
   "outputs": [],
   "source": []
  }
 ],
 "metadata": {
  "kernelspec": {
   "display_name": "Python 2",
   "language": "python",
   "name": "python2"
  },
  "language_info": {
   "codemirror_mode": {
    "name": "ipython",
    "version": 2
   },
   "file_extension": ".py",
   "mimetype": "text/x-python",
   "name": "python",
   "nbconvert_exporter": "python",
   "pygments_lexer": "ipython2",
   "version": "2.7.6"
  }
 },
 "nbformat": 4,
 "nbformat_minor": 1
}
