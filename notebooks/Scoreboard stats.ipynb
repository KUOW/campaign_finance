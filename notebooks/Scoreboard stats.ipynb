{
 "cells": [
  {
   "cell_type": "code",
   "execution_count": 1,
   "metadata": {
    "collapsed": true
   },
   "outputs": [],
   "source": [
    "import django\n",
    "import sys\n",
    "import os\n",
    "sys.path.append('..')\n",
    "\n",
    "from django.conf import settings\n",
    "django.setup()\n",
    "\n",
    "from campfin_data.models import *\n",
    "import locale\n",
    "locale.setlocale(locale.LC_ALL, 'en_US')\n",
    "from django.db.models import Q, Sum, Count"
   ]
  },
  {
   "cell_type": "code",
   "execution_count": 2,
   "metadata": {
    "collapsed": false
   },
   "outputs": [
    {
     "name": "stdout",
     "output_type": "stream",
     "text": [
      "$1,080,898.01 in 2,074 refunds\n"
     ]
    }
   ],
   "source": [
    "refunds = ScrapedRefund.objects.all().aggregate(Sum('amount'), Count('donor'))\n",
    "print '%s in %s refunds' % (\n",
    "    locale.currency(refunds['amount__sum'], grouping=True),\n",
    "    locale.format('%d', refunds['donor__count'], grouping=True))"
   ]
  },
  {
   "cell_type": "code",
   "execution_count": 3,
   "metadata": {
    "collapsed": false
   },
   "outputs": [
    {
     "name": "stdout",
     "output_type": "stream",
     "text": [
      "1) continuing: $31,938,225.89 in 148,531 contribs, after adjusting for 231 refunds\n",
      "2) federal: $27,866,759.76 in 99,186 contribs, after adjusting for 752 refunds\n",
      "3) leg: $23,957,730.60 in 65,629 contribs, after adjusting for 373 refunds\n",
      "4) sw: $19,690,264.81 in 68,811 contribs, after adjusting for 332 refunds\n",
      "5) initiative: $18,234,812.99 in 32,767 contribs, after adjusting for 14 refunds\n",
      "6) caucus: $13,831,086.38 in 2,077 contribs, after adjusting for 5 refunds\n",
      "7) single_year: $10,514,167.22 in 16,932 contribs, after adjusting for 11 refunds\n",
      "8) party_state: $8,627,977.85 in 5,646 contribs, after adjusting for 17 refunds\n",
      "9) loc: $2,994,193.44 in 13,557 contribs, after adjusting for 26 refunds\n",
      "10) party_county: $1,997,699.35 in 12,565 contribs, after adjusting for 31 refunds\n",
      "11) jud: $1,981,879.32 in 9,055 contribs, after adjusting for 277 refunds\n",
      "12) party_legdist: $667,318.96 in 5,907 contribs, after adjusting for 4 refunds\n",
      "13) party_associated: $102,138.41 in 672 contribs, after adjusting for 0 refunds\n",
      "14) party_minor: $8,552.75 in 118 contribs, after adjusting for 1 refunds\n"
     ]
    }
   ],
   "source": [
    "groups = ScrapedContribution.objects.all().values('filing_committee__committee_group').annotate(sum=Sum('amount'), num=Count('donor'))\n",
    "refund_groups = ScrapedRefund.objects.all().values('filing_committee__committee_group').annotate(sum=Sum('amount'), num=Count('donor'))\n",
    "data = {}\n",
    "for group in groups:\n",
    "    data[group['filing_committee__committee_group']] = {\n",
    "        'total_unadjusted': group['sum'],\n",
    "        'num_contribs': group['num'],\n",
    "        'total_adjusted': group['sum'],\n",
    "        'num_refunds': 0\n",
    "    }\n",
    "for group in refund_groups:\n",
    "    data[group['filing_committee__committee_group']]['total_adjusted'] -= group['sum']\n",
    "    data[group['filing_committee__committee_group']]['num_refunds'] = group['num']\n",
    "for idx, group in enumerate(sorted(data.keys(), key=lambda k: data[k]['total_adjusted'], reverse=True)):\n",
    "    print '%d) %s: %s in %s contribs, after adjusting for %d refunds' % (\n",
    "        idx + 1,\n",
    "        group,\n",
    "        locale.currency(data[group]['total_adjusted'], grouping=True),\n",
    "        locale.format('%d', data[group]['num_contribs'], grouping=True),\n",
    "        data[group]['num_refunds'])"
   ]
  },
  {
   "cell_type": "code",
   "execution_count": 4,
   "metadata": {
    "collapsed": false
   },
   "outputs": [
    {
     "name": "stdout",
     "output_type": "stream",
     "text": [
      "1) continuing: $46,337,811.25 raised (unitemized)\n",
      "2) federal: $29,841,929.35 raised (unitemized)\n",
      "3) leg: $28,528,453.05 raised (unitemized)\n",
      "4) sw: $22,361,199.00 raised (unitemized)\n",
      "5) initiative: $21,137,264.85 raised (unitemized)\n",
      "6) caucus: $16,823,383.44 raised (unitemized)\n",
      "7) single_year: $11,888,823.93 raised (unitemized)\n",
      "8) party_state: $9,802,469.02 raised (unitemized)\n",
      "9) loc: $3,694,013.57 raised (unitemized)\n",
      "10) jud: $3,632,231.48 raised (unitemized)\n",
      "11) party_county: $3,033,707.25 raised (unitemized)\n",
      "12) party_legdist: $1,068,302.61 raised (unitemized)\n",
      "13) party_associated: $152,264.37 raised (unitemized)\n",
      "14) party_minor: $12,861.42 raised (unitemized)\n"
     ]
    }
   ],
   "source": [
    "groups = ScrapedTotals.objects.exclude(\n",
    "    filing_committee__office__icontains='president', filing_committee__committee_group='federal').values(\n",
    "    'filing_committee__committee_group').annotate(sum=Sum('raised'))\n",
    "data = {}\n",
    "for group in groups:\n",
    "    data[group['filing_committee__committee_group']] = {\n",
    "        'total_raised': group['sum']\n",
    "    }\n",
    "for idx, group in enumerate(sorted(data.keys(), key=lambda k: data[k]['total_raised'], reverse=True)):\n",
    "    print '%d) %s: %s raised (unitemized)' % (\n",
    "        idx + 1,\n",
    "        group,\n",
    "        locale.currency(data[group]['total_raised'], grouping=True))"
   ]
  },
  {
   "cell_type": "code",
   "execution_count": 5,
   "metadata": {
    "collapsed": false
   },
   "outputs": [
    {
     "name": "stdout",
     "output_type": "stream",
     "text": [
      "No group SAVE ANIMALS FACING EXTINCTION\n",
      "\n",
      "\n",
      "1) INSLEE JAY R: $8,845,736.37 in 33,544 contribs, after adjusting for 27 refunds\n",
      "2) MURRAY, PATTY: $8,170,930.74 in 15,614 contribs, after adjusting for 58 refunds\n",
      "3) CLINTON, HILLARY RODHAM / KAINE, TIMOT: $7,069,181.29 in 63,200 contribs, after adjusting for 616 refunds\n",
      "4) INTEGRITY WA: $4,015,457.41 in 1,617 contribs, after adjusting for 0 refunds\n",
      "5) NEW DIRECTION PAC: $3,933,529.29 in 40 contribs, after adjusting for 0 refunds\n",
      "6) ALLIANCE FOR GUN RESPONSIBILITY ERP COMM: $3,869,871.34 in 21,129 contribs, after adjusting for 9 refunds\n",
      "7) MASS TRANSIT NOW: $3,668,361.00 in 345 contribs, after adjusting for 0 refunds\n",
      "8) RAISE UP WA: $3,456,026.07 in 1,387 contribs, after adjusting for 1 refunds\n",
      "9) BRYANT WILLIAM L: $3,442,661.12 in 8,824 contribs, after adjusting for 0 refunds\n",
      "10) WA ST DEMO CENT COMM NON EXEMPT: $3,064,950.11 in 4,716 contribs, after adjusting for 17 refunds\n",
      "11) WA ST REPUB PARTY NON EXEMPT: $2,960,194.00 in 581 contribs, after adjusting for 0 refunds\n",
      "12) HARRY TRUMAN FUND: $2,728,000.00 in 141 contribs, after adjusting for 0 refunds\n",
      "13) THE LEADERSHIP COUNCIL: $2,636,500.00 in 197 contribs, after adjusting for 0 refunds\n",
      "14) KILMER, DEREK: $2,149,221.04 in 2,133 contribs, after adjusting for 0 refunds\n",
      "15) WA ST DEMO CENT COMM EXEMPT: $1,908,819.00 in 133 contribs, after adjusting for 0 refunds\n",
      "16) REAGAN FUND: $1,868,576.00 in 149 contribs, after adjusting for 0 refunds\n",
      "17) CAMPAIGN TO PREVENT FRAUD AND PROTECT SENIORS: $1,825,050.00 in 10 contribs, after adjusting for 0 refunds\n",
      "18) HOUSE DEMO CAMP COMM: $1,669,626.24 in 480 contribs, after adjusting for 3 refunds\n",
      "19) KENNEDY FUND: $1,594,250.00 in 112 contribs, after adjusting for 2 refunds\n",
      "20) SERVICE EMPLOYEES INTL UNION WA ST COUNCIL PAC: $1,585,000.00 in 13 contribs, after adjusting for 0 refunds\n",
      "21) CARBON WA: $1,555,653.99 in 2,886 contribs, after adjusting for 1 refunds\n",
      "22) HECK, DENNIS: $1,531,391.05 in 1,676 contribs, after adjusting for 0 refunds\n",
      "23) MCMORRIS RODGERS, CATHY: $1,460,804.00 in 1,990 contribs, after adjusting for 10 refunds\n",
      "24) NO ON 732 SPONSORED BY THE ASSN OF WA BUSINESS: $1,403,450.00 in 88 contribs, after adjusting for 0 refunds\n",
      "25) WA REALTORS PAC: $1,368,793.08 in 18,550 contribs, after adjusting for 60 refunds\n",
      "26) REICHERT, DAVE: $1,366,703.93 in 1,358 contribs, after adjusting for 0 refunds\n",
      "27) FERGUSON ROBERT W: $1,360,872.24 in 4,662 contribs, after adjusting for 9 refunds\n",
      "28) OUR WASHINGTON: $1,359,000.00 in 19 contribs, after adjusting for 0 refunds\n",
      "29) HOUSE REPUB ORG COMM: $1,328,456.55 in 197 contribs, after adjusting for 0 refunds\n",
      "30) JAYAPAL, PRAMILA: $1,273,190.17 in 2,493 contribs, after adjusting for 4 refunds\n",
      "31) SENATE REPUB CAMP COMM: $1,213,525.59 in 371 contribs, after adjusting for 0 refunds\n",
      "32) GOOD GOVT LEADERSHIP COUNCIL: $1,145,000.00 in 9 contribs, after adjusting for 0 refunds\n",
      "33) STAND FOR CHILDREN WA PAC: $1,065,900.00 in 11 contribs, after adjusting for 0 refunds\n",
      "34) WORKING FAMILIES: $1,050,000.00 in 10 contribs, after adjusting for 0 refunds\n",
      "35) COMMUNITY PROGRESS: $989,500.00 in 7 contribs, after adjusting for 0 refunds\n",
      "36) HABIB CYRUS: $916,280.45 in 2,153 contribs, after adjusting for 5 refunds\n",
      "37) AUDUBON WA: $873,160.55 in 121 contribs, after adjusting for 0 refunds\n",
      "38) DELBENE, SUZAN K: $866,223.71 in 3,265 contribs, after adjusting for 29 refunds\n",
      "39) PODLODOWSKI TINA M: $858,416.06 in 2,585 contribs, after adjusting for 0 refunds\n",
      "40) WALKINSHAW, BRADY PINERO: $814,685.79 in 1,699 contribs, after adjusting for 1 refunds\n",
      "41) WYMAN KIMBERLEY M: $805,212.33 in 4,015 contribs, after adjusting for 3 refunds\n",
      "42) WA SENATE DEMO CAMP: $798,502.00 in 430 contribs, after adjusting for 0 refunds\n",
      "43) LITZOW STEPHEN R: $796,184.00 in 1,096 contribs, after adjusting for 1 refunds\n",
      "44) SMITH, D ADAM: $784,258.46 in 590 contribs, after adjusting for 0 refunds\n",
      "45) MAINSTREAM VOTERS OF WA: $769,000.00 in 9 contribs, after adjusting for 0 refunds\n",
      "46) ENTERPRISE WA JOBSPAC: $760,093.28 in 78 contribs, after adjusting for 0 refunds\n",
      "47) WA CONSERVATION VOTERS ACTION FUND: $733,647.00 in 50 contribs, after adjusting for 0 refunds\n",
      "48) WA ST ASSN FOR JUSTICE JUSTICE FOR ALL: $726,010.18 in 7,033 contribs, after adjusting for 0 refunds\n",
      "49) SERVICE EMPLOYEES INTL UNION 775 QUALITY CARE COMM: $724,320.81 in 6 contribs, after adjusting for 0 refunds\n",
      "50) WA ST REPUB PARTY EXEMPT: $695,714.08 in 187 contribs, after adjusting for 0 refunds\n",
      "51) SERVICE EMPLOYEES INTL UNION 1199 NORTHWEST PAC: $650,950.00 in 8 contribs, after adjusting for 0 refunds\n",
      "52) CULTURAL ACCESS WASHINGTON: $643,096.72 in 55 contribs, after adjusting for 0 refunds\n",
      "53) MYVOTECOUNTS: $603,600.00 in 13 contribs, after adjusting for 0 refunds\n",
      "54) WILSON LYNDA D: $602,509.16 in 617 contribs, after adjusting for 6 refunds\n",
      "55) HERRERA BEUTLER, JAIME: $589,610.20 in 1,207 contribs, after adjusting for 3 refunds\n",
      "56) CIT FOR WORKING COURTS ENTERPRISE WA: $552,500.00 in 9 contribs, after adjusting for 0 refunds\n",
      "57) DAMMEIER BRUCE F: $509,466.12 in 1,182 contribs, after adjusting for 2 refunds\n",
      "58) A SAFER SNOHOMISH CO: $505,800.00 in 20 contribs, after adjusting for 0 refunds\n",
      "59) MCLAUGHLIN STEVEN A: $494,841.00 in 399 contribs, after adjusting for 0 refunds\n",
      "60) FRANZ HILARY S: $488,623.19 in 1,352 contribs, after adjusting for 0 refunds\n",
      "61) O'BAN STEVEN T: $477,014.32 in 1,049 contribs, after adjusting for 0 refunds\n",
      "62) SOUTHWEST COMMUNITIES ENTERPRISE WA: $456,000.00 in 12 contribs, after adjusting for 0 refunds\n",
      "63) JUDICIAL INTEGRITY WA PAC: $453,100.00 in 6 contribs, after adjusting for 0 refunds\n",
      "64) MULLET MARK D: $448,761.59 in 761 contribs, after adjusting for 1 refunds\n",
      "65) MCDERMOTT, JAMES JOSEPH: $429,586.18 in 831 contribs, after adjusting for 13 refunds\n",
      "66) YES FOR HOMES: $421,492.00 in 158 contribs, after adjusting for 3 refunds\n",
      "67) MAGENDANZ CHAD L: $420,608.03 in 539 contribs, after adjusting for 0 refunds\n",
      "68) SCHOESLER MARK G: $418,685.00 in 729 contribs, after adjusting for 30 refunds\n",
      "69) HOBBS STEVEN R: $413,213.00 in 431 contribs, after adjusting for 12 refunds\n",
      "70) WA CHARTERS ACTION PAC: $410,075.00 in 9 contribs, after adjusting for 0 refunds\n",
      "71) CIT FOR PROGRESS ENTERPRISE WA: $404,050.00 in 18 contribs, after adjusting for 0 refunds\n",
      "72) FAIRNESS PROJECT: $400,297.00 in 4 contribs, after adjusting for 0 refunds\n",
      "73) SOUTH SOUND FUTURE PAC ENTERPRISE WA: $399,000.00 in 12 contribs, after adjusting for 0 refunds\n",
      "74) NEWHOUSE, DAN: $396,324.23 in 720 contribs, after adjusting for 0 refunds\n",
      "75) ASSOC GENERAL CONTRACTORS OF WA BUILD PAC: $395,515.60 in 1,188 contribs, after adjusting for 0 refunds\n",
      "76) BAILEY BARBARA F: $395,376.50 in 839 contribs, after adjusting for 1 refunds\n",
      "77) SEATTLE PROTECTS WOMEN UNITE HERE LOCAL 8 FOR YES ON 124: $381,766.00 in 47 contribs, after adjusting for 0 refunds\n",
      "78) FUSE VOTES: $378,279.25 in 490 contribs, after adjusting for 0 refunds\n",
      "79) WA ST COALITION TO AMEND THE CONSTITUTION: $376,637.75 in 2,934 contribs, after adjusting for 2 refunds\n",
      "80) FAMILIES FOR SUSTAINABLE TRANSIT: $375,000.00 in 11 contribs, after adjusting for 0 refunds\n",
      "81) NO SOUND TRANSIT 3: $372,024.00 in 75 contribs, after adjusting for 0 refunds\n",
      "82) WELLMAN LISA: $371,015.66 in 900 contribs, after adjusting for 0 refunds\n",
      "83) KING CO REPUB CENT COMM EXEMPT: $363,714.00 in 33 contribs, after adjusting for 0 refunds\n",
      "84) RIVERS ANNA M: $348,471.50 in 760 contribs, after adjusting for 0 refunds\n",
      "85) WA HEALTH CARE ASSN PAC: $345,715.28 in 1,282 contribs, after adjusting for 2 refunds\n",
      "86) JUST WANT PRIVACY: $339,428.00 in 1,405 contribs, after adjusting for 0 refunds\n",
      "87) PROBST TIMOTHY P: $338,746.26 in 991 contribs, after adjusting for 6 refunds\n",
      "88) QUALITY COMMUNITIES COMM (REAGAN FUND): $325,000.00 in 4 contribs, after adjusting for 0 refunds\n",
      "89) NO ON I-123: $313,573.45 in 77 contribs, after adjusting for 1 refunds\n",
      "90) PELOQUIN MARISA K: $307,950.92 in 664 contribs, after adjusting for 0 refunds\n",
      "91) KING CURTIS P: $307,865.00 in 735 contribs, after adjusting for 0 refunds\n",
      "92) WA ST DENTAL PAC: $304,792.88 in 3,023 contribs, after adjusting for 1 refunds\n",
      "93) UFCW 21 PAC: $302,000.00 in 6 contribs, after adjusting for 0 refunds\n",
      "94) ASSN OF WA SPIRITS & WINE DISTRIBUTORS PAC: $300,000.00 in 4 contribs, after adjusting for 0 refunds\n",
      "95) YU MARY I: $297,732.00 in 1,369 contribs, after adjusting for 1 refunds\n",
      "96) PLUMBERS & STEAMFITTERS LOCAL 598 PAC: $294,528.83 in 5,168 contribs, after adjusting for 0 refunds\n",
      "97) KNOW YOUR JUDICIAL BALLOT PAC: $290,100.00 in 3 contribs, after adjusting for 0 refunds\n",
      "98) KILDUFF CHRISTINE J: $285,616.01 in 665 contribs, after adjusting for 3 refunds\n",
      "99) KING CO REPUB CENT COMM NON EXEMPT: $276,862.98 in 813 contribs, after adjusting for 6 refunds\n",
      "100) ZEIGER HANS A: $275,332.88 in 804 contribs, after adjusting for 5 refunds\n"
     ]
    }
   ],
   "source": [
    "groups = ScrapedContribution.objects.all().values('filing_committee__name').annotate(sum=Sum('amount'), num=Count('donor'))\n",
    "refund_groups = ScrapedRefund.objects.all().values('filing_committee__name').annotate(sum=Sum('amount'), num=Count('donor'))\n",
    "data = {}\n",
    "for group in groups:\n",
    "    data[group['filing_committee__name']] = {\n",
    "        'total_unadjusted': group['sum'],\n",
    "        'num_contribs': group['num'],\n",
    "        'total_adjusted': group['sum'],\n",
    "        'num_refunds': 0\n",
    "    }\n",
    "for group in refund_groups:\n",
    "    try:\n",
    "        #data[group['filing_committee__name']]['total_adjusted'] -= group['sum']\n",
    "        data[group['filing_committee__name']]['num_refunds'] = group['num']\n",
    "    except:\n",
    "        print 'No group %s' % group['filing_committee__name']\n",
    "print '\\n'\n",
    "for idx, group in enumerate(sorted(data.keys(), key=lambda k: data[k]['total_adjusted'], reverse=True)[:100]):\n",
    "    print '%d) %s: %s in %s contribs, after adjusting for %d refunds' % (\n",
    "        idx + 1,\n",
    "        group,\n",
    "        locale.currency(data[group]['total_adjusted'], grouping=True),\n",
    "        locale.format('%d', data[group]['num_contribs'], grouping=True),\n",
    "        data[group]['num_refunds'])"
   ]
  },
  {
   "cell_type": "code",
   "execution_count": 6,
   "metadata": {
    "collapsed": false
   },
   "outputs": [
    {
     "name": "stdout",
     "output_type": "stream",
     "text": [
      "\n",
      "\n",
      "1) Democratic: $62,893,018.15 in 199,363 contribs, after adjusting for 642 refunds\n",
      "2) (Blank): $62,669,085.42 in 207,285 contribs, after adjusting for 533 refunds\n",
      "3) Republican: $34,628,628.58 in 64,439 contribs, after adjusting for 23 refunds\n",
      "4) Other: $1,312,631.14 in 4,407 contribs, after adjusting for 8 refunds\n",
      "5) Nonpartisan: $860,969.33 in 5,608 contribs, after adjusting for 1 refunds\n",
      "6) Libertarian: $35,822.36 in 225 contribs, after adjusting for 1 refunds\n",
      "7) Green: $8,552.75 in 118 contribs, after adjusting for 1 refunds\n",
      "8) Independent: $4,100.00 in 8 contribs, after adjusting for 0 refunds\n"
     ]
    }
   ],
   "source": [
    "def convert_party_code(party_code):\n",
    "    mapping = {\n",
    "        '': '(Blank)',\n",
    "        'D': 'Democratic',\n",
    "        'Democratic Party': 'Democratic',\n",
    "        'R': 'Republican',\n",
    "        'Republican Party': 'Republican',\n",
    "        'O': 'Other',\n",
    "        'Other': 'Other',\n",
    "        'G': 'Green',\n",
    "        'L': 'Libertarian',\n",
    "        'I': 'Independent',\n",
    "        'Independent': 'Independent',\n",
    "        'N': 'Nonpartisan',\n",
    "        'NO': 'Nonpartisan',\n",
    "        'S': 'Socialist',\n",
    "        'C': 'Constitutional',\n",
    "        'Constitutional': 'Constitutional',\n",
    "        'Green Party': 'Green',\n",
    "        'None': 'Nonpartisan',\n",
    "        'George Wallace Party': 'George Wallace Party',\n",
    "        'Unknown': '(Blank)',\n",
    "        'SOCIALIST EQUALITY PARTY': 'Socialist',\n",
    "        'UNAFFILIATED': 'Nonpartisan',\n",
    "        'WRITE-IN': 'Other',\n",
    "        'Libertarian': 'Libertarian',\n",
    "        'American Party': 'American',\n",
    "        'NO PARTY AFFILIATION': 'Nonpartisan',\n",
    "        'Peace Freedom Party': 'Peace Freedom',\n",
    "        'CONSTITUTION PARTY': 'Constitution',\n",
    "        'INDEPENDENCE PARTY': 'Independence'\n",
    "    }\n",
    "    if party_code not in mapping:\n",
    "        print party_code\n",
    "        return party_code\n",
    "    return mapping[party_code]\n",
    "\n",
    "groups = ScrapedContribution.objects.all().values('filing_committee__party').annotate(sum=Sum('amount'), num=Count('donor'))\n",
    "refund_groups = ScrapedRefund.objects.all().values('filing_committee__party').annotate(sum=Sum('amount'), num=Count('donor'))\n",
    "data = {}\n",
    "for group in groups:\n",
    "    if convert_party_code(group['filing_committee__party']) not in data:\n",
    "        data[convert_party_code(group['filing_committee__party'])] = {\n",
    "            'total_unadjusted': 0,\n",
    "            'num_contribs': 0,\n",
    "            'total_adjusted': 0,\n",
    "            'num_refunds': 0\n",
    "        }\n",
    "    data[convert_party_code(group['filing_committee__party'])]['total_unadjusted'] += group['sum']\n",
    "    data[convert_party_code(group['filing_committee__party'])]['total_adjusted'] += group['sum']\n",
    "    data[convert_party_code(group['filing_committee__party'])]['num_contribs'] += group['num']\n",
    "    \n",
    "for group in refund_groups:\n",
    "    try:\n",
    "        data[convert_party_code(group['filing_committee__party'])]['total_adjusted'] -= group['sum']\n",
    "        data[convert_party_code(group['filing_committee__party'])]['num_refunds'] = group['num']\n",
    "    except:\n",
    "        print 'No group %s' % group['filing_committee__party']\n",
    "print '\\n'\n",
    "for idx, group in enumerate(sorted(data.keys(), key=lambda k: data[k]['total_adjusted'], reverse=True)[:20]):\n",
    "    print '%d) %s: %s in %s contribs, after adjusting for %d refunds' % (\n",
    "        idx + 1,\n",
    "        group,\n",
    "        locale.currency(data[group]['total_adjusted'], grouping=True),\n",
    "        locale.format('%d', data[group]['num_contribs'], grouping=True),\n",
    "        data[group]['num_refunds'])"
   ]
  },
  {
   "cell_type": "code",
   "execution_count": 7,
   "metadata": {
    "collapsed": false
   },
   "outputs": [
    {
     "name": "stdout",
     "output_type": "stream",
     "text": [
      "[{'num': 30, 'committee_group': u'initiative'}, {'num': 195, 'committee_group': u'jud'}, {'num': 547, 'committee_group': u'continuing'}, {'num': 162, 'committee_group': u'single_year'}]\n"
     ]
    }
   ],
   "source": [
    "groups = ScrapedCommittee.objects.filter(party='').values('committee_group').annotate(num=Count('name'))\n",
    "print groups"
   ]
  },
  {
   "cell_type": "code",
   "execution_count": 8,
   "metadata": {
    "collapsed": false
   },
   "outputs": [
    {
     "name": "stdout",
     "output_type": "stream",
     "text": [
      "1) (Blank): $82,996,131.51 raised\n",
      "2) Democratic: $69,132,051.09 raised\n",
      "3) Republican: $42,983,661.33 raised\n",
      "4) Other: $2,043,087.51 raised\n",
      "5) Nonpartisan: $1,063,639.68 raised\n",
      "6) Libertarian: $59,808.90 raised\n",
      "7) Independent: $23,473.15 raised\n",
      "8) Green: $12,861.42 raised\n",
      "9) Socialist: $0.00 raised\n",
      "10) Constitutional: $0.00 raised\n",
      "\n",
      "\n",
      "1) (Blank): $69,398,293.23 spent\n",
      "2) Democratic: $57,003,184.95 spent\n",
      "3) Republican: $36,811,471.35 spent\n",
      "4) Other: $1,912,514.80 spent\n",
      "5) Nonpartisan: $957,471.82 spent\n",
      "6) Libertarian: $47,362.56 spent\n",
      "7) Independent: $26,302.25 spent\n",
      "8) Green: $3,949.93 spent\n",
      "9) Socialist: $0.00 spent\n",
      "10) Constitutional: $0.00 spent\n",
      "\n",
      "\n",
      "1) Democratic: $3,312,506.46 in IEs supporting\n",
      "2) Republican: $2,170,418.07 in IEs supporting\n",
      "3) (Blank): $1,306,904.93 in IEs supporting\n",
      "4) Other: $404,848.90 in IEs supporting\n",
      "5) Nonpartisan: $303,305.61 in IEs supporting\n",
      "6) Independent: $0.00 in IEs supporting\n",
      "7) Socialist: $0.00 in IEs supporting\n",
      "8) Constitutional: $0.00 in IEs supporting\n",
      "9) Green: $0.00 in IEs supporting\n",
      "10) Libertarian: $0.00 in IEs supporting\n",
      "\n",
      "\n",
      "1) Republican: $4,549,494.21 in IEs opposing\n",
      "2) Democratic: $2,957,476.38 in IEs opposing\n",
      "3) Other: $1,157,712.19 in IEs opposing\n",
      "4) (Blank): $421,541.58 in IEs opposing\n",
      "5) Nonpartisan: $68,221.17 in IEs opposing\n",
      "6) Libertarian: $683.41 in IEs opposing\n",
      "7) Independent: $0.00 in IEs opposing\n",
      "8) Socialist: $0.00 in IEs opposing\n",
      "9) Constitutional: $0.00 in IEs opposing\n",
      "10) Green: $0.00 in IEs opposing\n"
     ]
    }
   ],
   "source": [
    "groups = ScrapedTotals.objects.exclude(\n",
    "    filing_committee__office__icontains='president', filing_committee__committee_group='federal').values(\n",
    "    'filing_committee__party').annotate(\n",
    "    sum_raised=Sum('raised'), sum_spent=Sum('spent'), sum_ie_for=Sum('ie_for'), sum_ie_against=Sum('ie_against'))\n",
    "data = {}\n",
    "for group in groups:\n",
    "    if convert_party_code(group['filing_committee__party']) not in data:\n",
    "        data[convert_party_code(group['filing_committee__party'])] = {\n",
    "            'total_raised': 0,\n",
    "            'total_spent': 0,\n",
    "            'total_ie_for': 0,\n",
    "            'total_ie_against': 0\n",
    "        }\n",
    "    data[convert_party_code(group['filing_committee__party'])]['total_raised'] += float(group['sum_raised'])\n",
    "    data[convert_party_code(group['filing_committee__party'])]['total_spent'] += float(group['sum_spent'])\n",
    "    data[convert_party_code(group['filing_committee__party'])]['total_ie_for'] += float(group['sum_ie_for'] if group['sum_ie_for'] else 0)\n",
    "    data[convert_party_code(group['filing_committee__party'])]['total_ie_against'] += float(group['sum_ie_against'] if group['sum_ie_against'] else 0)\n",
    "\n",
    "for idx, group in enumerate(sorted(data.keys(), key=lambda k: data[k]['total_raised'], reverse=True)[:20]):\n",
    "    print '%d) %s: %s raised' % (\n",
    "        idx + 1,\n",
    "        group,\n",
    "        locale.currency(data[group]['total_raised'], grouping=True))\n",
    "\n",
    "print '\\n'\n",
    "    \n",
    "for idx, group in enumerate(sorted(data.keys(), key=lambda k: data[k]['total_spent'], reverse=True)[:20]):\n",
    "    print '%d) %s: %s spent' % (\n",
    "        idx + 1,\n",
    "        group,\n",
    "        locale.currency(data[group]['total_spent'], grouping=True))\n",
    "\n",
    "print '\\n'\n",
    "\n",
    "for idx, group in enumerate(sorted(data.keys(), key=lambda k: data[k]['total_ie_for'], reverse=True)[:20]):\n",
    "    print '%d) %s: %s in IEs supporting' % (\n",
    "        idx + 1,\n",
    "        group,\n",
    "        locale.currency(data[group]['total_ie_for'], grouping=True))\n",
    "\n",
    "print '\\n'\n",
    "\n",
    "for idx, group in enumerate(sorted(data.keys(), key=lambda k: data[k]['total_ie_against'], reverse=True)[:20]):\n",
    "    print '%d) %s: %s in IEs opposing' % (\n",
    "        idx + 1,\n",
    "        group,\n",
    "        locale.currency(data[group]['total_ie_against'], grouping=True))"
   ]
  },
  {
   "cell_type": "code",
   "execution_count": 9,
   "metadata": {
    "collapsed": false
   },
   "outputs": [
    {
     "name": "stdout",
     "output_type": "stream",
     "text": [
      "$163,493,705.74 in 481,453 contributions\n"
     ]
    }
   ],
   "source": [
    "all_contribs = ScrapedContribution.objects.all().aggregate(Sum('amount'), Count('donor'))\n",
    "print '%s in %s contributions' % (\n",
    "    locale.currency(all_contribs['amount__sum'], grouping=True),\n",
    "    locale.format('%d', all_contribs['donor__count'], grouping=True))"
   ]
  },
  {
   "cell_type": "code",
   "execution_count": 10,
   "metadata": {
    "collapsed": false
   },
   "outputs": [
    {
     "name": "stdout",
     "output_type": "stream",
     "text": [
      "$153,453,765.02 in 79,174 expenses\n"
     ]
    }
   ],
   "source": [
    "all_expenses = ScrapedExpense.objects.all().aggregate(Sum('amount'), Count('vendor'))\n",
    "print '%s in %s expenses' % (\n",
    "    locale.currency(all_expenses['amount__sum'], grouping=True),\n",
    "    locale.format('%d', all_expenses['vendor__count'], grouping=True))"
   ]
  },
  {
   "cell_type": "code",
   "execution_count": 11,
   "metadata": {
    "collapsed": false
   },
   "outputs": [
    {
     "name": "stdout",
     "output_type": "stream",
     "text": [
      "LITZOW STEPHEN R (R - STATE SENATOR; LD-41): $795,346.51 raised\n",
      "WILSON LYNDA D (R - STATE SENATOR; LD-17): $616,196.54 raised\n",
      "MULLET MARK D (D - STATE SENATOR; LD-5): $552,136.30 raised\n",
      "O'BAN STEVEN T (R - STATE SENATOR; LD-28): $551,614.57 raised\n",
      "MAGENDANZ CHAD L (R - STATE SENATOR; LD-5): $517,576.69 raised\n",
      "BAILEY BARBARA F (R - STATE SENATOR; LD-10): $485,449.29 raised\n",
      "PROBST TIMOTHY P (O - STATE SENATOR; LD-17): $482,593.48 raised\n",
      "WELLMAN LISA (D - STATE SENATOR; LD-41): $471,448.84 raised\n",
      "SCHOESLER MARK G (R - STATE SENATOR; LD-9): $419,754.88 raised\n",
      "PELOQUIN MARISA K (D - STATE SENATOR; LD-28): $402,057.20 raised\n",
      "KILDUFF CHRISTINE J (D - STATE REPRESENTATIVE; LD-28): $360,330.07 raised\n",
      "RIVERS ANNA M (R - STATE SENATOR; LD-18): $349,697.50 raised\n",
      "HICKEL TERI H (R - STATE REPRESENTATIVE; LD-30): $329,228.30 raised\n",
      "GRAVES PAUL S (R - STATE REPRESENTATIVE; LD-5): $318,828.00 raised\n",
      "KING CURTIS P (R - STATE SENATOR; LD-14): $310,621.31 raised\n",
      "SULLIVAN PATRICK J (D - STATE REPRESENTATIVE; LD-47): $309,545.84 raised\n",
      "HOMOLA ANGELA D (D - STATE SENATOR; LD-10): $308,748.28 raised\n",
      "HUXFORD JANICE (R - STATE REPRESENTATIVE; LD-44): $303,506.21 raised\n",
      "PELLICCIOTTI MICHAEL J (D - STATE REPRESENTATIVE; LD-30): $301,809.26 raised\n",
      "LOVICK JOHNNY R (D - STATE REPRESENTATIVE; LD-44): $294,290.52 raised\n"
     ]
    }
   ],
   "source": [
    "cmtes = ScrapedTotals.objects.filter(filing_committee__committee_group='leg').values(\n",
    "    'filing_committee__name').annotate(sum=Sum('raised'))\n",
    "for group in sorted(cmtes, key=lambda k: k['sum'], reverse=True)[:20]:\n",
    "    full_cmte = ScrapedCommittee.objects.filter(committee_group='leg', name=group['filing_committee__name'])\n",
    "    maps = SOSPDCMap.objects.filter(pdc_filer_id__in=[fc.filer_id for fc in full_cmte])\n",
    "    for m in maps:\n",
    "        summaries = BallotRaceSummary.objects.filter(ballot_id=m.sos_ballot_id)\n",
    "        districts = set([s.district for s in summaries])\n",
    "        names = []\n",
    "        for d in districts:\n",
    "            names.append(d.district_name)\n",
    "    print '%s (%s - %s; %s): %s raised' % (\n",
    "        group['filing_committee__name'],\n",
    "        full_cmte[0].party,\n",
    "        full_cmte[0].office,\n",
    "        ('; '.join(set(names))).replace('Legislative District ', 'LD-'),\n",
    "        locale.currency(group['sum'], grouping=True))"
   ]
  },
  {
   "cell_type": "code",
   "execution_count": 12,
   "metadata": {
    "collapsed": false
   },
   "outputs": [
    {
     "name": "stdout",
     "output_type": "stream",
     "text": [
      "DAMMEIER BRUCE F (R - COUNTY EXECUTIVE; COUNTY): $507,592.08 raised\n",
      "TALBERT RICK B (D - COUNTY EXECUTIVE; COUNTY): $249,375.90 raised\n",
      "O'QUINN SHELLY J (R - COUNTY COMMISSIONER; COUNTY WIDE; CO DISTRICT 2): $101,796.73 raised\n",
      "ROACH DANIEL N (R - COUNTY EXECUTIVE; COUNTY WIDE; CO DISTRICT 2): $99,183.50 raised\n",
      "ROACH PAM (R - COUNTY COUNCIL MEMBER; COUNTY COUNCIL DISTRICT NO. 2): $95,322.75 raised\n",
      "HULSE KELSEY L (D - COUNTY COMMISSIONER; County of Thurston; Commissioner District  No. 2): $92,631.95 raised\n",
      "DUNSHEE HANS M (D - COUNTY COUNCIL MEMBER; County Council District 5): $90,839.68 raised\n",
      "EDWARDS GARY P (NO - COUNTY COMMISSIONER; County of Thurston; Commissioner District  No. 2): $89,467.00 raised\n",
      "MUMM CANDACE M (D - COUNTY COMMISSIONER; CO DISTRICT 1; COUNTY WIDE): $85,616.50 raised\n",
      "LOW SAMUEL E (R - COUNTY COUNCIL MEMBER; County Council District 5): $81,385.48 raised\n",
      "COOPER JAMES (JIM) M JR (D - COUNTY COMMISSIONER; Commissioner District  No. 1; County of Thurston): $73,340.31 raised\n",
      "BLOM JOHN D (R - COUNTY COUNCIL MEMBER; COUNTY COUNCILOR DISTRICT #3): $65,118.55 raised\n",
      "HARRIS TANISHA L (D - COUNTY COUNCIL MEMBER; COUNTY COUNCILOR DISTRICT #3): $61,470.67 raised\n",
      "RICHARDSON DOUGLAS G (R - COUNTY COUNCIL MEMBER; COUNTY COUNCIL DISTRICT NO. 6): $58,422.58 raised\n",
      "MCLAUGHLIN NANCY L (R - COUNTY COMMISSIONER; COUNTY COUNCIL DISTRICT NO. 6): $55,566.83 raised\n",
      "PRICE JOHNSON HELEN C (D - COUNTY COMMISSIONER; COUNTY WIDE; COMM DIST ONE): $55,478.21 raised\n",
      "GARRIDO CHARLOTTE C (D - COUNTY COMMISSIONER; COUNTY COMMISSIONER DISTRICT 2; KITSAP COUNTY): $55,225.52 raised\n",
      "KERNS JOSHUA D (R - COUNTY COMMISSIONER; CO DISTRICT 1; COUNTY WIDE): $52,130.00 raised\n",
      "BIVIANO ANDREW S (D - COUNTY COMMISSIONER; COUNTY WIDE; CO DISTRICT 2): $51,290.02 raised\n",
      "FARMER LINDA E (D - COUNTY COUNCIL MEMBER; COUNTY COUNCIL DISTRICT NO. 6): $51,180.30 raised\n"
     ]
    }
   ],
   "source": [
    "cmtes = ScrapedTotals.objects.filter(filing_committee__committee_group='loc').values(\n",
    "    'filing_committee__name').annotate(sum=Sum('raised'))\n",
    "for group in sorted(cmtes, key=lambda k: k['sum'], reverse=True)[:20]:\n",
    "    full_cmte = ScrapedCommittee.objects.filter(committee_group='loc', name=group['filing_committee__name'])\n",
    "    maps = SOSPDCMap.objects.filter(pdc_filer_id__in=[fc.filer_id for fc in full_cmte])\n",
    "    for m in maps:\n",
    "        summaries = BallotRaceSummary.objects.filter(ballot_id=m.sos_ballot_id)\n",
    "        districts = set([s.district for s in summaries])\n",
    "        names = []\n",
    "        for d in districts:\n",
    "            names.append(d.district_name)\n",
    "    print '%s (%s - %s; %s): %s raised' % (\n",
    "        group['filing_committee__name'],\n",
    "        full_cmte[0].party,\n",
    "        full_cmte[0].office,\n",
    "        ('; '.join(set(names))).replace('Legislative District ', 'LD-'),\n",
    "        locale.currency(group['sum'], grouping=True))"
   ]
  },
  {
   "cell_type": "code",
   "execution_count": 13,
   "metadata": {
    "collapsed": false
   },
   "outputs": [
    {
     "name": "stdout",
     "output_type": "stream",
     "text": [
      "SEIU WASHINGTON STATE COUNCIL of SEATTLE, WA: $2,441,000.00 in 24 contribs\n",
      "THE LEADERSHIP COUNCIL of OLYMPIA, WA: $2,383,000.00 in 42 contribs\n",
      "HARRY TRUMAN FUND of SEATTLE, WA: $2,089,900.00 in 67 contribs\n",
      "SEIU 775 of SEATTLE, WA: $1,822,000.00 in 19 contribs\n",
      "HANAUER NICOLAS of SEATTLE, WA: $1,818,000.00 in 20 contribs\n",
      "WASHINGTON STATE DEMOCRATIC CENTRAL COMMITTEE of SEATTLE, WA: $1,808,528.47 in 37 contribs\n",
      "KENNEDY FUND of SEATTLE, WA: $1,415,850.00 in 57 contribs\n",
      "WASHINGTON STATE REPUBLICAN PARTY of BELLEVUE, WA: $1,406,175.00 in 31 contribs\n",
      "THE REAGAN FUND of OLYMPIA, WA: $1,367,500.00 in 23 contribs\n",
      "BALLMER CONNIE of HUNTS POINT, WA: $1,002,000.00 in 5 contribs\n",
      "REPRESENT US of FLORENCE, MA: $960,300.00 in 7 contribs\n",
      "REPUBLICAN STATE LEADERSHIP CO of WASHINGTON, DC: $900,000.00 in 11 contribs\n",
      "ENTERPRISE WASHINGTON'S JOBSPAC of BELLEVUE, WA: $776,000.00 in 13 contribs\n",
      "HOLLAND CLYDE of VANCOUVER, WA: $745,800.00 in 61 contribs\n",
      "SENATE REPUBLICAN CAMPAIGN COMMITTEE of OLYMPIA, WA: $739,000.00 in 22 contribs\n",
      "SEIU WA STATE COUNCIL PAC of SEATTLE, WA: $708,600.00 in 23 contribs\n",
      "HOUSE DEMOCRATIC CAUCUS CAMPAIGN COMM. of SEATTLE, WA: $695,000.00 in 2 contribs\n",
      "SERVICE EMPLOYEES INTERNATIONAL UNION POLITICAL EDUCATION AND ACTION FUND of WASHINGTON, DC: $674,320.81 in 5 contribs\n",
      "SEIU HEALTHCARE 1199 NW of RENTON, WA: $665,050.00 in 28 contribs\n",
      "PUYALLUP TRIBE OF INDIANS of TACOMA, WA: $654,950.00 in 205 contribs\n"
     ]
    }
   ],
   "source": [
    "donors = ScrapedContribution.objects.all().values('donor', 'city', 'state').annotate(\n",
    "    sum=Sum('amount'), num=Count('donor'))\n",
    "for group in sorted(donors, key=lambda k: k['sum'], reverse=True)[:20]:\n",
    "    print '%s of %s, %s: %s in %s contribs' % (\n",
    "        group['donor'],\n",
    "        group['city'],\n",
    "        group['state'],\n",
    "        locale.currency(group['sum'], grouping=True),\n",
    "        locale.format('%d', group['num'], grouping=True))"
   ]
  },
  {
   "cell_type": "code",
   "execution_count": 14,
   "metadata": {
    "collapsed": false
   },
   "outputs": [
    {
     "name": "stdout",
     "output_type": "stream",
     "text": [
      ": $98,850,742.20 in 260,573 contribs\n",
      "None: $8,221,979.65 in 7,451 contribs\n",
      "NONE: $4,008,998.75 in 13,615 contribs\n",
      "N/A: $3,739,242.55 in 23,311 contribs\n",
      "SELF: $3,399,554.25 in 7,531 contribs\n",
      "NOT EMPLOYED: $3,281,367.09 in 14,714 contribs\n",
      "SELF EMPLOYED: $2,597,999.86 in 5,407 contribs\n",
      "RETIRED: $2,267,686.39 in 8,570 contribs\n",
      "SELF-EMPLOYED: $1,271,728.25 in 7,496 contribs\n",
      "2ND AVE PARTNERS: $1,000,000.00 in 5 contribs\n",
      "FISHER INVESTMENTS: $982,325.00 in 162 contribs\n",
      "SECOND AVENUE PARTNERS: $857,150.00 in 33 contribs\n",
      "MICROSOFT: $674,866.59 in 2,013 contribs\n",
      "JS CAPITAL MANAGEMENT LLC: $575,000.00 in 3 contribs\n",
      "HOLLAND PARTNERS GROUP: $537,000.00 in 40 contribs\n",
      "INFORMATION REQUESTED: $405,391.70 in 1,670 contribs\n",
      "UNIVERSITY OF WASHINGTON: $363,019.47 in 1,848 contribs\n",
      "NA: $307,627.71 in 768 contribs\n",
      "STATE OF WASHINGTON: $253,639.65 in 1,219 contribs\n",
      "THE BALLMER GROUP: $253,000.00 in 5 contribs\n"
     ]
    }
   ],
   "source": [
    "donors = ScrapedContribution.objects.all().values('employer').annotate(sum=Sum('amount'), num=Count('donor'))\n",
    "for group in sorted(donors, key=lambda k: k['sum'], reverse=True)[:20]:\n",
    "    print '%s: %s in %s contribs' % (\n",
    "        group['employer'],\n",
    "        locale.currency(group['sum'], grouping=True),\n",
    "        locale.format('%d', group['num'], grouping=True))"
   ]
  },
  {
   "cell_type": "code",
   "execution_count": 15,
   "metadata": {
    "collapsed": false
   },
   "outputs": [
    {
     "name": "stdout",
     "output_type": "stream",
     "text": [
      ": $95,698,115.77 in 248,788 contribs\n",
      "RETIRED: $11,951,619.17 in 50,198 contribs\n",
      "None: $7,263,486.00 in 4,304 contribs\n",
      "ATTORNEY: $4,507,017.44 in 15,518 contribs\n",
      "CEO: $3,257,572.45 in 2,132 contribs\n",
      "NOT EMPLOYED: $2,117,129.47 in 12,720 contribs\n",
      "VENTURE CAPITALIST: $1,943,200.00 in 63 contribs\n",
      "INVESTOR: $1,901,549.32 in 556 contribs\n",
      "HOMEMAKER: $1,353,140.68 in 3,563 contribs\n",
      "CONSULTANT: $1,245,407.86 in 3,432 contribs\n",
      "OWNER: $1,189,807.00 in 2,168 contribs\n",
      "PRESIDENT: $1,177,305.68 in 1,895 contribs\n",
      "PHYSICIAN: $1,071,707.21 in 3,416 contribs\n",
      "EXECUTIVE: $1,048,826.09 in 1,375 contribs\n",
      "CONDUIT TOTAL LISTED IN AGG. FIELD: $1,015,372.39 in 3,104 contribs\n",
      "COMMUNITY VOLUNTEER: $681,641.82 in 119 contribs\n",
      "MANAGER: $623,429.19 in 1,823 contribs\n",
      "FOUNDER: $484,888.14 in 129 contribs\n",
      "ENGINEER: $460,622.42 in 1,553 contribs\n",
      "CHIEF EXECUTIVE OFFICER: $437,257.33 in 55 contribs\n"
     ]
    }
   ],
   "source": [
    "donors = ScrapedContribution.objects.all().values('occupation').annotate(sum=Sum('amount'), num=Count('donor'))\n",
    "for group in sorted(donors, key=lambda k: k['sum'], reverse=True)[:20]:\n",
    "    print '%s: %s in %s contribs' % (\n",
    "        group['occupation'],\n",
    "        locale.currency(group['sum'], grouping=True),\n",
    "        locale.format('%d', group['num'], grouping=True))"
   ]
  },
  {
   "cell_type": "code",
   "execution_count": null,
   "metadata": {
    "collapsed": true
   },
   "outputs": [],
   "source": []
  }
 ],
 "metadata": {
  "kernelspec": {
   "display_name": "Python 2",
   "language": "python",
   "name": "python2"
  },
  "language_info": {
   "codemirror_mode": {
    "name": "ipython",
    "version": 2
   },
   "file_extension": ".py",
   "mimetype": "text/x-python",
   "name": "python",
   "nbconvert_exporter": "python",
   "pygments_lexer": "ipython2",
   "version": "2.7.6"
  }
 },
 "nbformat": 4,
 "nbformat_minor": 1
}
