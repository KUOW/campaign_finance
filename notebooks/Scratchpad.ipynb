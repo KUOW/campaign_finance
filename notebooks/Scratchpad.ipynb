{
 "cells": [
  {
   "cell_type": "code",
   "execution_count": 1,
   "metadata": {
    "collapsed": true
   },
   "outputs": [],
   "source": [
    "import django\n",
    "import sys\n",
    "import os\n",
    "sys.path.append('..')\n",
    "\n",
    "from django.conf import settings\n",
    "django.setup()\n",
    "\n",
    "from campfin_data.models import *\n",
    "import locale\n",
    "locale.setlocale(locale.LC_ALL, 'en_US')\n",
    "from django.db.models import Q, Sum, Count"
   ]
  },
  {
   "cell_type": "code",
   "execution_count": 2,
   "metadata": {
    "collapsed": false
   },
   "outputs": [
    {
     "name": "stdout",
     "output_type": "stream",
     "text": [
      "{'city': u'SEATTLE', 'sum': Decimal('358000.000'), 'employer': u'', 'state': u'WA', 'num': 6, 'donor': u'FAMILIES FOR SUSTAINABLE TRANSIT', 'occupation': u''}\n"
     ]
    }
   ],
   "source": [
    "from campfin_data.utils import *\n",
    "\n",
    "pdc_map = SOSPDCMap.objects.filter(sos_ballot_id=999992)\n",
    "committees = list(set([pm.pdc_filer_id for pm in pdc_map]))\n",
    "cmte_objs = ScrapedCommittee.objects.filter(filer_id__in=committees)\n",
    "donations = ScrapedContribution.objects.filter(filing_committee__in=cmte_objs)\n",
    "top_donors = account_for_refunds(\n",
    "    donations.values('donor', 'city', 'state', 'employer', 'occupation').annotate(\n",
    "    sum=Sum('amount'), num=Count('donor')).order_by('-sum', '-num', 'donor'), cmte_objs)\n",
    "print top_donors[0]"
   ]
  },
  {
   "cell_type": "code",
   "execution_count": 3,
   "metadata": {
    "collapsed": true
   },
   "outputs": [],
   "source": [
    "#candidates = get_candidates_by_district()"
   ]
  },
  {
   "cell_type": "code",
   "execution_count": 4,
   "metadata": {
    "collapsed": false
   },
   "outputs": [
    {
     "name": "stdout",
     "output_type": "stream",
     "text": [
      "[<BallotRaceSummary: Yes (Proposition 1 (Sound Transit 3) - Light rail, commuter rail, and bus service expansion, SOUND TRANSIT)>, <BallotRaceSummary: No (Proposition 1 (Sound Transit 3) - Light rail, commuter rail, and bus service expansion, SOUND TRANSIT)>]\n"
     ]
    }
   ],
   "source": [
    "election = BallotElection.objects.get(is_current=True)\n",
    "district = BallotDistrict.objects.get(district_id=80753)\n",
    "candidates = BallotRaceSummary.objects.filter(district=district)\n",
    "print candidates\n",
    "races = BallotRaceSummary.objects.filter(race_id=999999)\n",
    "for race in races:\n",
    "    if not race.district:\n",
    "        break\n",
    "        #race.district = district\n",
    "        #race.save()"
   ]
  },
  {
   "cell_type": "code",
   "execution_count": null,
   "metadata": {
    "collapsed": true
   },
   "outputs": [],
   "source": []
  }
 ],
 "metadata": {
  "kernelspec": {
   "display_name": "Python 2",
   "language": "python",
   "name": "python2"
  },
  "language_info": {
   "codemirror_mode": {
    "name": "ipython",
    "version": 2
   },
   "file_extension": ".py",
   "mimetype": "text/x-python",
   "name": "python",
   "nbconvert_exporter": "python",
   "pygments_lexer": "ipython2",
   "version": "2.7.6"
  }
 },
 "nbformat": 4,
 "nbformat_minor": 1
}
