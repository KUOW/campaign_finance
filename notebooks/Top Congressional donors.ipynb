{
 "cells": [
  {
   "cell_type": "code",
   "execution_count": 1,
   "metadata": {
    "collapsed": true
   },
   "outputs": [],
   "source": [
    "import django\n",
    "import sys\n",
    "import os\n",
    "sys.path.append('..')\n",
    "\n",
    "from django.conf import settings\n",
    "django.setup()\n",
    "\n",
    "from campfin_data.models import *\n",
    "import locale\n",
    "locale.setlocale(locale.LC_ALL, 'en_US')\n",
    "from django.db.models import Q, Sum, Count"
   ]
  },
  {
   "cell_type": "code",
   "execution_count": 2,
   "metadata": {
    "collapsed": true
   },
   "outputs": [],
   "source": [
    "cmtes = ScrapedCommittee.objects.filter(committee_group='federal', office__icontains='house')\n",
    "races = {'congress': []}\n",
    "for cmte in cmtes:\n",
    "    if cmte.office not in races:\n",
    "        races[cmte.office] = []\n",
    "    found = False\n",
    "    for cand in races[cmte.office]:\n",
    "        if cand.filer_id == cmte.filer_id:\n",
    "            found = True\n",
    "    if not found:\n",
    "        races[cmte.office].append(cmte)\n",
    "        races['congress'].append(cmte)"
   ]
  },
  {
   "cell_type": "code",
   "execution_count": 3,
   "metadata": {
    "collapsed": false
   },
   "outputs": [
    {
     "name": "stdout",
     "output_type": "stream",
     "text": [
      "congress\n"
     ]
    },
    {
     "ename": "IOError",
     "evalue": "[Errno 2] No such file or directory: '/home/aepton/code/campfin/data/congress_donors.csv'",
     "output_type": "error",
     "traceback": [
      "\u001b[0;31m---------------------------------------------------------------------------\u001b[0m",
      "\u001b[0;31mIOError\u001b[0m                                   Traceback (most recent call last)",
      "\u001b[0;32m<ipython-input-3-21fc0125a2f7>\u001b[0m in \u001b[0;36m<module>\u001b[0;34m()\u001b[0m\n\u001b[1;32m     25\u001b[0m                 \u001b[0mrefund_dict\u001b[0m\u001b[0;34m[\u001b[0m\u001b[0mkey\u001b[0m\u001b[0;34m]\u001b[0m\u001b[0;34m[\u001b[0m\u001b[0;34m'uses'\u001b[0m\u001b[0;34m]\u001b[0m \u001b[0;34m+=\u001b[0m \u001b[0;36m1\u001b[0m\u001b[0;34m\u001b[0m\u001b[0m\n\u001b[1;32m     26\u001b[0m         \u001b[0moutput\u001b[0m\u001b[0;34m.\u001b[0m\u001b[0mappend\u001b[0m\u001b[0;34m(\u001b[0m\u001b[0mdonor\u001b[0m\u001b[0;34m)\u001b[0m\u001b[0;34m\u001b[0m\u001b[0m\n\u001b[0;32m---> 27\u001b[0;31m     \u001b[0;32mwith\u001b[0m \u001b[0mopen\u001b[0m\u001b[0;34m(\u001b[0m\u001b[0;34m'/home/aepton/code/campfin/data/%s_donors.csv'\u001b[0m \u001b[0;34m%\u001b[0m \u001b[0mrace\u001b[0m\u001b[0;34m.\u001b[0m\u001b[0mreplace\u001b[0m\u001b[0;34m(\u001b[0m\u001b[0;34m' '\u001b[0m\u001b[0;34m,\u001b[0m \u001b[0;34m''\u001b[0m\u001b[0;34m)\u001b[0m\u001b[0;34m.\u001b[0m\u001b[0mlower\u001b[0m\u001b[0;34m(\u001b[0m\u001b[0;34m)\u001b[0m\u001b[0;34m,\u001b[0m \u001b[0;34m'w+'\u001b[0m\u001b[0;34m)\u001b[0m \u001b[0;32mas\u001b[0m \u001b[0mfh\u001b[0m\u001b[0;34m:\u001b[0m\u001b[0;34m\u001b[0m\u001b[0m\n\u001b[0m\u001b[1;32m     28\u001b[0m         \u001b[0mwriter\u001b[0m \u001b[0;34m=\u001b[0m \u001b[0mDictWriter\u001b[0m\u001b[0;34m(\u001b[0m\u001b[0mfh\u001b[0m\u001b[0;34m,\u001b[0m \u001b[0msorted\u001b[0m\u001b[0;34m(\u001b[0m\u001b[0moutput\u001b[0m\u001b[0;34m[\u001b[0m\u001b[0;36m0\u001b[0m\u001b[0;34m]\u001b[0m\u001b[0;34m.\u001b[0m\u001b[0mkeys\u001b[0m\u001b[0;34m(\u001b[0m\u001b[0;34m)\u001b[0m\u001b[0;34m)\u001b[0m\u001b[0;34m)\u001b[0m\u001b[0;34m\u001b[0m\u001b[0m\n\u001b[1;32m     29\u001b[0m         \u001b[0mwriter\u001b[0m\u001b[0;34m.\u001b[0m\u001b[0mwriteheader\u001b[0m\u001b[0;34m(\u001b[0m\u001b[0;34m)\u001b[0m\u001b[0;34m\u001b[0m\u001b[0m\n",
      "\u001b[0;31mIOError\u001b[0m: [Errno 2] No such file or directory: '/home/aepton/code/campfin/data/congress_donors.csv'"
     ]
    }
   ],
   "source": [
    "from csv import DictWriter\n",
    "\n",
    "for race in races:\n",
    "    print race\n",
    "    contribs = ScrapedContribution.objects.filter(filing_committee__filer_id__in=[c.filer_id for c in races[race]])\n",
    "    values = contribs.values('donor', 'city', 'state', 'employer', 'occupation', 'filing_committee__name').annotate(\n",
    "        sum=Sum('amount'), num=Count('date')).order_by('-amount', '-sum')\n",
    "    refunds = ScrapedRefund.objects.filter(\n",
    "        filing_committee__filer_id__in=[c.filer_id for c in races[race]]).values(\n",
    "        'donor', 'city', 'state').annotate(sum=Sum('amount'))\n",
    "    refund_dict = {}\n",
    "    for refund in refunds:\n",
    "        key = '-'.join([refund['donor'], refund['city'], refund['state']])\n",
    "        refund_dict[key] = refund\n",
    "        refund_dict[key]['uses'] = 0\n",
    "    output = []\n",
    "    for donor in values[:2000]:\n",
    "        key = '-'.join([\n",
    "                donor['donor'] if donor['donor'] else '',\n",
    "                donor['city'] if donor['city'] else '',\n",
    "                donor['state'] if donor['state'] else ''])\n",
    "        if key in refund_dict:\n",
    "            if refund_dict[key]['uses'] < 1:\n",
    "                donor['sum'] -= refund_dict[key]['sum']\n",
    "                refund_dict[key]['uses'] += 1\n",
    "        output.append(donor)\n",
    "    with open('/home/aepton/code/campfin/data/%s_donors.csv' % race.replace(' ', '').lower(), 'w+') as fh:\n",
    "        writer = DictWriter(fh, sorted(output[0].keys()))\n",
    "        writer.writeheader()\n",
    "        writer.writerows(sorted(output, key=lambda k: k['sum'], reverse=True))"
   ]
  },
  {
   "cell_type": "code",
   "execution_count": null,
   "metadata": {
    "collapsed": true
   },
   "outputs": [],
   "source": []
  }
 ],
 "metadata": {
  "kernelspec": {
   "display_name": "Python 2",
   "language": "python",
   "name": "python2"
  },
  "language_info": {
   "codemirror_mode": {
    "name": "ipython",
    "version": 2
   },
   "file_extension": ".py",
   "mimetype": "text/x-python",
   "name": "python",
   "nbconvert_exporter": "python",
   "pygments_lexer": "ipython2",
   "version": "2.7.6"
  }
 },
 "nbformat": 4,
 "nbformat_minor": 1
}
