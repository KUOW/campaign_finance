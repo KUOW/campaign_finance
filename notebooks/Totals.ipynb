{
 "cells": [
  {
   "cell_type": "code",
   "execution_count": 9,
   "metadata": {
    "collapsed": true
   },
   "outputs": [],
   "source": [
    "import django\n",
    "import sys\n",
    "import os\n",
    "sys.path.append('..')\n",
    "\n",
    "from django.conf import settings\n",
    "django.setup()\n",
    "\n",
    "from campfin_data.models import *\n",
    "import locale\n",
    "locale.setlocale(locale.LC_ALL, 'en_US')\n",
    "from django.db.models import Q, Sum, Count"
   ]
  },
  {
   "cell_type": "code",
   "execution_count": 10,
   "metadata": {
    "collapsed": false
   },
   "outputs": [
    {
     "name": "stdout",
     "output_type": "stream",
     "text": [
      "500,911 contribs for $166,812,416.49\n",
      "84,055 expenses for $162,291,495.26\n",
      "2,100 refunds for $1,096,003.01\n"
     ]
    }
   ],
   "source": [
    "contribs = ScrapedContribution.objects.all()\n",
    "expenses = ScrapedExpense.objects.all()\n",
    "refunds = ScrapedRefund.objects.all()\n",
    "\n",
    "print '%s contribs for %s' % (\n",
    "    locale.format('%d', contribs.count(), grouping=True),\n",
    "    locale.currency(contribs.aggregate(Sum('amount'))['amount__sum'], grouping=True))\n",
    "print '%s expenses for %s' % (\n",
    "    locale.format('%d', expenses.count(), grouping=True),\n",
    "    locale.currency(expenses.aggregate(Sum('amount'))['amount__sum'], grouping=True))\n",
    "print '%s refunds for %s' % (\n",
    "    locale.format('%d', refunds.count(), grouping=True),\n",
    "    locale.currency(refunds.aggregate(Sum('amount'))['amount__sum'], grouping=True))"
   ]
  },
  {
   "cell_type": "code",
   "execution_count": 11,
   "metadata": {
    "collapsed": false
   },
   "outputs": [
    {
     "name": "stdout",
     "output_type": "stream",
     "text": [
      "486,655 contribs for $164,978,666.21\n",
      "82,025 expenses for $161,339,571.82\n",
      "2,090 refunds for $1,090,472.01\n"
     ]
    }
   ],
   "source": [
    "from datetime import datetime\n",
    "\n",
    "year = datetime.now().year\n",
    "\n",
    "contribs = ScrapedContribution.objects.filter(filing_committee__filing_year=year)\n",
    "expenses = ScrapedExpense.objects.filter(filing_committee__filing_year=year)\n",
    "refunds = ScrapedRefund.objects.filter(filing_committee__filing_year=year)\n",
    "\n",
    "print '%s contribs for %s' % (\n",
    "    locale.format('%d', contribs.count(), grouping=True),\n",
    "    locale.currency(contribs.aggregate(Sum('amount'))['amount__sum'], grouping=True))\n",
    "print '%s expenses for %s' % (\n",
    "    locale.format('%d', expenses.count(), grouping=True),\n",
    "    locale.currency(expenses.aggregate(Sum('amount'))['amount__sum'], grouping=True))\n",
    "print '%s refunds for %s' % (\n",
    "    locale.format('%d', refunds.count(), grouping=True),\n",
    "    locale.currency(refunds.aggregate(Sum('amount'))['amount__sum'], grouping=True))"
   ]
  },
  {
   "cell_type": "code",
   "execution_count": null,
   "metadata": {
    "collapsed": true
   },
   "outputs": [],
   "source": []
  }
 ],
 "metadata": {
  "kernelspec": {
   "display_name": "Python 2",
   "language": "python",
   "name": "python2"
  },
  "language_info": {
   "codemirror_mode": {
    "name": "ipython",
    "version": 2
   },
   "file_extension": ".py",
   "mimetype": "text/x-python",
   "name": "python",
   "nbconvert_exporter": "python",
   "pygments_lexer": "ipython2",
   "version": "2.7.6"
  }
 },
 "nbformat": 4,
 "nbformat_minor": 1
}
