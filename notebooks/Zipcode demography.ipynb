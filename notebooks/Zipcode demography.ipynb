{
 "cells": [
  {
   "cell_type": "code",
   "execution_count": 1,
   "metadata": {
    "collapsed": true
   },
   "outputs": [],
   "source": [
    "import django\n",
    "import sys\n",
    "import os\n",
    "sys.path.append('..')\n",
    "\n",
    "from django.conf import settings\n",
    "django.setup()\n",
    "\n",
    "from campfin_data.models import *\n",
    "import locale\n",
    "locale.setlocale(locale.LC_ALL, 'en_US')\n",
    "from django.db.models import Q, Sum, Count"
   ]
  },
  {
   "cell_type": "markdown",
   "metadata": {},
   "source": [
    "## Generate zipcode employment/income map"
   ]
  },
  {
   "cell_type": "code",
   "execution_count": 2,
   "metadata": {
    "collapsed": false
   },
   "outputs": [
    {
     "ename": "IOError",
     "evalue": "[Errno 2] No such file or directory: '/home/aepton/code/campfin/data/ACS_14_5YR_DP03_with_ann.csv'",
     "output_type": "error",
     "traceback": [
      "\u001b[0;31m---------------------------------------------------------------------------\u001b[0m",
      "\u001b[0;31mIOError\u001b[0m                                   Traceback (most recent call last)",
      "\u001b[0;32m<ipython-input-2-0e7d46650a76>\u001b[0m in \u001b[0;36m<module>\u001b[0;34m()\u001b[0m\n\u001b[1;32m      7\u001b[0m \u001b[0mmissing_data\u001b[0m \u001b[0;34m=\u001b[0m \u001b[0;34m[\u001b[0m\u001b[0;34m]\u001b[0m\u001b[0;34m\u001b[0m\u001b[0m\n\u001b[1;32m      8\u001b[0m \u001b[0;34m\u001b[0m\u001b[0m\n\u001b[0;32m----> 9\u001b[0;31m \u001b[0;32mwith\u001b[0m \u001b[0mopen\u001b[0m\u001b[0;34m(\u001b[0m\u001b[0mos\u001b[0m\u001b[0;34m.\u001b[0m\u001b[0mpath\u001b[0m\u001b[0;34m.\u001b[0m\u001b[0mjoin\u001b[0m\u001b[0;34m(\u001b[0m\u001b[0msettings\u001b[0m\u001b[0;34m.\u001b[0m\u001b[0mDATA_DIR\u001b[0m\u001b[0;34m,\u001b[0m \u001b[0;34m'ACS_14_5YR_DP03_with_ann.csv'\u001b[0m\u001b[0;34m)\u001b[0m\u001b[0;34m)\u001b[0m \u001b[0;32mas\u001b[0m \u001b[0mfh\u001b[0m\u001b[0;34m:\u001b[0m\u001b[0;34m\u001b[0m\u001b[0m\n\u001b[0m\u001b[1;32m     10\u001b[0m     \u001b[0mreader\u001b[0m \u001b[0;34m=\u001b[0m \u001b[0mDictReader\u001b[0m\u001b[0;34m(\u001b[0m\u001b[0mfh\u001b[0m\u001b[0;34m)\u001b[0m\u001b[0;34m\u001b[0m\u001b[0m\n\u001b[1;32m     11\u001b[0m     \u001b[0;32mfor\u001b[0m \u001b[0mrow\u001b[0m \u001b[0;32min\u001b[0m \u001b[0mreader\u001b[0m\u001b[0;34m:\u001b[0m\u001b[0;34m\u001b[0m\u001b[0m\n",
      "\u001b[0;31mIOError\u001b[0m: [Errno 2] No such file or directory: '/home/aepton/code/campfin/data/ACS_14_5YR_DP03_with_ann.csv'"
     ]
    }
   ],
   "source": [
    "from csv import DictReader\n",
    "\n",
    "data_key = 'Percent; EMPLOYMENT STATUS - Civilian labor force - Percent Unemployed'\n",
    "zipcode_key = 'Id2'\n",
    "\n",
    "unemployment_results = {}\n",
    "missing_data = []\n",
    "\n",
    "with open(os.path.join(settings.DATA_DIR, 'ACS_14_5YR_DP03_with_ann.csv')) as fh:\n",
    "    reader = DictReader(fh)\n",
    "    for row in reader:\n",
    "        try:\n",
    "            unemployment_results[row[zipcode_key]] = float(row[data_key])\n",
    "        except:\n",
    "            missing_data.append(row[zipcode_key])\n",
    "            continue\n",
    "\n",
    "print 'Found %d zipcodes with missing data' % len(missing_data)"
   ]
  },
  {
   "cell_type": "code",
   "execution_count": 3,
   "metadata": {
    "collapsed": true
   },
   "outputs": [],
   "source": [
    "for zc in sorted(unemployment_results, key=lambda k: unemployment_results[k], reverse=True)[:10]:\n",
    "    print zc, unemployment_results[zc]\n",
    "\n",
    "for zc in unemployment_results:\n",
    "    if zc[:5] in zipcode_funding:\n",
    "        zipcode_funding[zc[:5]]['unemployment'] = float(unemployment_results[zc])"
   ]
  },
  {
   "cell_type": "code",
   "execution_count": 4,
   "metadata": {
    "collapsed": false
   },
   "outputs": [
    {
     "ename": "IOError",
     "evalue": "[Errno 2] No such file or directory: '/home/aepton/code/campfin/data/acs_14_5_year_zipcode_unemployment.csv'",
     "output_type": "error",
     "traceback": [
      "\u001b[0;31m---------------------------------------------------------------------------\u001b[0m",
      "\u001b[0;31mIOError\u001b[0m                                   Traceback (most recent call last)",
      "\u001b[0;32m<ipython-input-4-829fae653a34>\u001b[0m in \u001b[0;36m<module>\u001b[0;34m()\u001b[0m\n\u001b[1;32m      1\u001b[0m \u001b[0;32mfrom\u001b[0m \u001b[0mcsv\u001b[0m \u001b[0;32mimport\u001b[0m \u001b[0mDictWriter\u001b[0m\u001b[0;34m\u001b[0m\u001b[0m\n\u001b[1;32m      2\u001b[0m \u001b[0;34m\u001b[0m\u001b[0m\n\u001b[0;32m----> 3\u001b[0;31m \u001b[0;32mwith\u001b[0m \u001b[0mopen\u001b[0m\u001b[0;34m(\u001b[0m\u001b[0mos\u001b[0m\u001b[0;34m.\u001b[0m\u001b[0mpath\u001b[0m\u001b[0;34m.\u001b[0m\u001b[0mjoin\u001b[0m\u001b[0;34m(\u001b[0m\u001b[0msettings\u001b[0m\u001b[0;34m.\u001b[0m\u001b[0mDATA_DIR\u001b[0m\u001b[0;34m,\u001b[0m \u001b[0;34m'acs_14_5_year_zipcode_unemployment.csv'\u001b[0m\u001b[0;34m)\u001b[0m\u001b[0;34m,\u001b[0m \u001b[0;34m'w+'\u001b[0m\u001b[0;34m)\u001b[0m \u001b[0;32mas\u001b[0m \u001b[0mfh\u001b[0m\u001b[0;34m:\u001b[0m\u001b[0;34m\u001b[0m\u001b[0m\n\u001b[0m\u001b[1;32m      4\u001b[0m     \u001b[0mwriter\u001b[0m \u001b[0;34m=\u001b[0m \u001b[0mDictWriter\u001b[0m\u001b[0;34m(\u001b[0m\u001b[0mfh\u001b[0m\u001b[0;34m,\u001b[0m \u001b[0;34m[\u001b[0m\u001b[0;34m'zipcode'\u001b[0m\u001b[0;34m,\u001b[0m \u001b[0;34m'unemployment'\u001b[0m\u001b[0;34m]\u001b[0m\u001b[0;34m)\u001b[0m\u001b[0;34m\u001b[0m\u001b[0m\n\u001b[1;32m      5\u001b[0m     \u001b[0mwriter\u001b[0m\u001b[0;34m.\u001b[0m\u001b[0mwriteheader\u001b[0m\u001b[0;34m(\u001b[0m\u001b[0;34m)\u001b[0m\u001b[0;34m\u001b[0m\u001b[0m\n",
      "\u001b[0;31mIOError\u001b[0m: [Errno 2] No such file or directory: '/home/aepton/code/campfin/data/acs_14_5_year_zipcode_unemployment.csv'"
     ]
    }
   ],
   "source": [
    "from csv import DictWriter\n",
    "\n",
    "with open(os.path.join(settings.DATA_DIR, 'acs_14_5_year_zipcode_unemployment.csv'), 'w+') as fh:\n",
    "    writer = DictWriter(fh, ['zipcode', 'unemployment'])\n",
    "    writer.writeheader()\n",
    "    for zipcode in unemployment_results:\n",
    "        writer.writerow({'zipcode': zipcode, 'unemployment': unemployment_results[zipcode]})"
   ]
  },
  {
   "cell_type": "markdown",
   "metadata": {},
   "source": [
    "## Median age and racial breakdown"
   ]
  },
  {
   "cell_type": "code",
   "execution_count": 5,
   "metadata": {
    "collapsed": false
   },
   "outputs": [
    {
     "ename": "IOError",
     "evalue": "[Errno 2] No such file or directory: '/home/aepton/code/campfin/data/ACS_14_5YR_DP05_with_ann.csv'",
     "output_type": "error",
     "traceback": [
      "\u001b[0;31m---------------------------------------------------------------------------\u001b[0m",
      "\u001b[0;31mIOError\u001b[0m                                   Traceback (most recent call last)",
      "\u001b[0;32m<ipython-input-5-4a8fd877a7a7>\u001b[0m in \u001b[0;36m<module>\u001b[0;34m()\u001b[0m\n\u001b[1;32m     10\u001b[0m \u001b[0mmissing_data\u001b[0m \u001b[0;34m=\u001b[0m \u001b[0;34m[\u001b[0m\u001b[0;34m]\u001b[0m\u001b[0;34m\u001b[0m\u001b[0m\n\u001b[1;32m     11\u001b[0m \u001b[0;34m\u001b[0m\u001b[0m\n\u001b[0;32m---> 12\u001b[0;31m \u001b[0;32mwith\u001b[0m \u001b[0mopen\u001b[0m\u001b[0;34m(\u001b[0m\u001b[0mos\u001b[0m\u001b[0;34m.\u001b[0m\u001b[0mpath\u001b[0m\u001b[0;34m.\u001b[0m\u001b[0mjoin\u001b[0m\u001b[0;34m(\u001b[0m\u001b[0msettings\u001b[0m\u001b[0;34m.\u001b[0m\u001b[0mDATA_DIR\u001b[0m\u001b[0;34m,\u001b[0m \u001b[0;34m'ACS_14_5YR_DP05_with_ann.csv'\u001b[0m\u001b[0;34m)\u001b[0m\u001b[0;34m)\u001b[0m \u001b[0;32mas\u001b[0m \u001b[0mfh\u001b[0m\u001b[0;34m:\u001b[0m\u001b[0;34m\u001b[0m\u001b[0m\n\u001b[0m\u001b[1;32m     13\u001b[0m     \u001b[0mreader\u001b[0m \u001b[0;34m=\u001b[0m \u001b[0mDictReader\u001b[0m\u001b[0;34m(\u001b[0m\u001b[0mfh\u001b[0m\u001b[0;34m)\u001b[0m\u001b[0;34m\u001b[0m\u001b[0m\n\u001b[1;32m     14\u001b[0m     \u001b[0;32mfor\u001b[0m \u001b[0mrow\u001b[0m \u001b[0;32min\u001b[0m \u001b[0mreader\u001b[0m\u001b[0;34m:\u001b[0m\u001b[0;34m\u001b[0m\u001b[0m\n",
      "\u001b[0;31mIOError\u001b[0m: [Errno 2] No such file or directory: '/home/aepton/code/campfin/data/ACS_14_5YR_DP05_with_ann.csv'"
     ]
    }
   ],
   "source": [
    "# Just curious. What zipcodes have highest disproportion of men/women?\n",
    "age_data_key = 'Estimate; SEX AND AGE - Median age (years)'\n",
    "asian_data_key = 'Percent; HISPANIC OR LATINO AND RACE - Total population - Not Hispanic or Latino - Asian alone'\n",
    "black_data_key = 'Percent; HISPANIC OR LATINO AND RACE - Total population - Not Hispanic or Latino - Black or African American alone'\n",
    "hispanic_data_key = 'Percent; HISPANIC OR LATINO AND RACE - Total population - Hispanic or Latino (of any race)'\n",
    "white_data_key = 'Percent; HISPANIC OR LATINO AND RACE - Total population - Not Hispanic or Latino - White alone'\n",
    "zipcode_key = 'Id2'\n",
    "\n",
    "race_results = {}\n",
    "missing_data = []\n",
    "\n",
    "with open(os.path.join(settings.DATA_DIR, 'ACS_14_5YR_DP05_with_ann.csv')) as fh:\n",
    "    reader = DictReader(fh)\n",
    "    for row in reader:\n",
    "        try:\n",
    "            zipcode_funding[row[zipcode_key]]['median_age'] = float(row[age_data_key])\n",
    "            zipcode_funding[row[zipcode_key]]['percent_asian'] = float(row[asian_data_key])\n",
    "            zipcode_funding[row[zipcode_key]]['percent_black'] = float(row[black_data_key])\n",
    "            zipcode_funding[row[zipcode_key]]['percent_hispanic'] = float(row[hispanic_data_key])\n",
    "            zipcode_funding[row[zipcode_key]]['percent_white'] = float(row[white_data_key])\n",
    "        except:\n",
    "            missing_data.append(row[zipcode_key])\n",
    "            continue\n",
    "\n",
    "print 'Found %d zipcodes with missing data' % len(missing_data)"
   ]
  },
  {
   "cell_type": "markdown",
   "metadata": {},
   "source": [
    "## Save combined funding and demography data to CSV"
   ]
  },
  {
   "cell_type": "code",
   "execution_count": 6,
   "metadata": {
    "collapsed": false
   },
   "outputs": [
    {
     "ename": "NameError",
     "evalue": "name 'measures' is not defined",
     "output_type": "error",
     "traceback": [
      "\u001b[0;31m---------------------------------------------------------------------------\u001b[0m",
      "\u001b[0;31mNameError\u001b[0m                                 Traceback (most recent call last)",
      "\u001b[0;32m<ipython-input-6-7140576c0f79>\u001b[0m in \u001b[0;36m<module>\u001b[0;34m()\u001b[0m\n\u001b[1;32m     11\u001b[0m \u001b[0mlevel_two\u001b[0m \u001b[0;34m=\u001b[0m \u001b[0;34m[\u001b[0m\u001b[0;34m]\u001b[0m\u001b[0;34m\u001b[0m\u001b[0m\n\u001b[1;32m     12\u001b[0m \u001b[0;34m\u001b[0m\u001b[0m\n\u001b[0;32m---> 13\u001b[0;31m \u001b[0;32mfor\u001b[0m \u001b[0mmeasure\u001b[0m \u001b[0;32min\u001b[0m \u001b[0mmeasures\u001b[0m\u001b[0;34m:\u001b[0m\u001b[0;34m\u001b[0m\u001b[0m\n\u001b[0m\u001b[1;32m     14\u001b[0m     \u001b[0;32mfor\u001b[0m \u001b[0mside\u001b[0m \u001b[0;32min\u001b[0m \u001b[0;34m[\u001b[0m\u001b[0;34m'yes'\u001b[0m\u001b[0;34m,\u001b[0m \u001b[0;34m'no'\u001b[0m\u001b[0;34m]\u001b[0m\u001b[0;34m:\u001b[0m\u001b[0;34m\u001b[0m\u001b[0m\n\u001b[1;32m     15\u001b[0m         \u001b[0mlevel_two\u001b[0m\u001b[0;34m.\u001b[0m\u001b[0mappend\u001b[0m\u001b[0;34m(\u001b[0m\u001b[0;34m'%s: %s'\u001b[0m \u001b[0;34m%\u001b[0m \u001b[0;34m(\u001b[0m\u001b[0mmeasure\u001b[0m\u001b[0;34m,\u001b[0m \u001b[0mside\u001b[0m\u001b[0;34m)\u001b[0m\u001b[0;34m)\u001b[0m\u001b[0;34m\u001b[0m\u001b[0m\n",
      "\u001b[0;31mNameError\u001b[0m: name 'measures' is not defined"
     ]
    }
   ],
   "source": [
    "from csv import DictWriter\n",
    "\n",
    "paths = [\n",
    "    os.path.join(settings.DATA_DIR, 'combined_funding_zipcode_demography.csv'),\n",
    "    '/home/aepton/code/dataviz/732/combined_funding_demography.csv',\n",
    "    '/home/aepton/code/dataviz/init_maps/combined_funding_demography.csv',\n",
    "]\n",
    "\n",
    "level_one = [\n",
    "    'zipcode', 'unemployment', 'percent_white', 'percent_black', 'percent_asian', 'percent_hispanic', 'median_age']\n",
    "level_two = []\n",
    "\n",
    "for measure in measures:\n",
    "    for side in ['yes', 'no']:\n",
    "        level_two.append('%s: %s' % (measure, side))\n",
    "\n",
    "for path in paths:\n",
    "    with open(path, 'w+') as fh:\n",
    "        writer = DictWriter(fh, level_one + level_two)\n",
    "        writer.writeheader()\n",
    "        for zipcode in zipcode_funding:\n",
    "            if not zipcode:\n",
    "                continue\n",
    "            row = {\n",
    "                'zipcode': zipcode\n",
    "            }\n",
    "            for column in level_one:\n",
    "                if column == 'zipcode':\n",
    "                    continue\n",
    "                row[column] = zipcode_funding[zipcode][column]\n",
    "            for measure in measures:\n",
    "                for side in ['yes', 'no']:\n",
    "                    row['%s: %s' % (measure, side)] = zipcode_funding[zipcode][measure][side]\n",
    "            writer.writerow(row)"
   ]
  },
  {
   "cell_type": "code",
   "execution_count": null,
   "metadata": {
    "collapsed": true
   },
   "outputs": [],
   "source": []
  }
 ],
 "metadata": {
  "kernelspec": {
   "display_name": "Python 2",
   "language": "python",
   "name": "python2"
  },
  "language_info": {
   "codemirror_mode": {
    "name": "ipython",
    "version": 2
   },
   "file_extension": ".py",
   "mimetype": "text/x-python",
   "name": "python",
   "nbconvert_exporter": "python",
   "pygments_lexer": "ipython2",
   "version": "2.7.6"
  }
 },
 "nbformat": 4,
 "nbformat_minor": 1
}
